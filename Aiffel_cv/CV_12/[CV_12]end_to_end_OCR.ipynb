{
  "nbformat": 4,
  "nbformat_minor": 0,
  "metadata": {
    "colab": {
      "name": "[CV_12]end_to_end_OCR.ipynb",
      "provenance": [],
      "collapsed_sections": []
    },
    "kernelspec": {
      "name": "python3",
      "display_name": "Python 3"
    },
    "language_info": {
      "name": "python"
    },
    "accelerator": "GPU"
  },
  "cells": [
    {
      "cell_type": "markdown",
      "source": [
        "# [CV_12] 직접 만들어보는 OCR"
      ],
      "metadata": {
        "id": "JGRCUa-9Ep-E"
      }
    },
    {
      "cell_type": "code",
      "execution_count": null,
      "metadata": {
        "id": "Aa11pL9ehPML"
      },
      "outputs": [],
      "source": [
        "!cd /content/drive/MyDrive/Colab Notebooks/data\n",
        "!wget https://www.dropbox.com/sh/i39abvnefllx2si/AABX4yjNn2iLeKZh1OAwJUffa/data_lmdb_release.zip\n",
        "!wget https://www.dropbox.com/s/issusv9gteq4x6a/GD10.zip\n",
        "!unzip '*.zip'\n",
        "!mv data_lmdb_release/training/MJ ."
      ]
    },
    {
      "cell_type": "markdown",
      "source": [
        "## Dataset for OCR"
      ],
      "metadata": {
        "id": "HTwhD-WU7Bns"
      }
    },
    {
      "cell_type": "code",
      "source": [
        "import os\n",
        "\n",
        "path = '/content'\n",
        "os.chdir(path)\n",
        "\n",
        "print(path)"
      ],
      "metadata": {
        "colab": {
          "base_uri": "https://localhost:8080/"
        },
        "id": "XZ_-hfLhy25C",
        "outputId": "429e674c-eaf3-4d11-fdf7-2e52ba7a5653"
      },
      "execution_count": 1,
      "outputs": [
        {
          "output_type": "stream",
          "name": "stdout",
          "text": [
            "/content\n"
          ]
        }
      ]
    },
    {
      "cell_type": "code",
      "source": [
        "import re\n",
        "import six\n",
        "import math\n",
        "import lmdb\n",
        "import os\n",
        "import numpy as np\n",
        "import tensorflow as tf\n",
        "\n",
        "from PIL import Image\n",
        "\n",
        "from tensorflow.keras import layers\n",
        "from tensorflow.keras.models import Model\n",
        "from tensorflow.keras.utils import Sequence\n",
        "from tensorflow.keras import backend as K\n",
        "from tensorflow.keras.models import load_model\n",
        "\n",
        "BATCH_SIZE = 256\n",
        "HOME_DIR = '/content'\n",
        "\n",
        "TRAIN_DATA_PATH = '/content/data/MJ/MJ_test'\n",
        "VALID_DATA_PATH = '/content/data/MJ/MJ_train'\n",
        "TEST_DATA_PATH = '/content/data/MJ/MJ_valid'\n",
        "\n",
        "print(TRAIN_DATA_PATH)"
      ],
      "metadata": {
        "colab": {
          "base_uri": "https://localhost:8080/"
        },
        "id": "8YbIZw9F67Vc",
        "outputId": "71dd961a-1982-4f83-893e-4b682cf5fd67"
      },
      "execution_count": 2,
      "outputs": [
        {
          "output_type": "stream",
          "name": "stdout",
          "text": [
            "/content/data/MJ/MJ_test\n"
          ]
        }
      ]
    },
    {
      "cell_type": "markdown",
      "source": [
        "## Recognition model"
      ],
      "metadata": {
        "id": "ORjRl-dS7GvY"
      }
    },
    {
      "cell_type": "code",
      "source": [
        "from IPython.display import display\n",
        "\n",
        "# env에 데이터를 불러오기\n",
        "# lmdb에서 데이터를 불러올 때 env라는 변수명을 사용하는게 일반적\n",
        "env = lmdb.open(TRAIN_DATA_PATH, \n",
        "                max_readers=32, \n",
        "                readonly=True, \n",
        "                lock=False, \n",
        "                readahead=False, \n",
        "                meminit=False)\n",
        "\n",
        "# 불러온 데이터를 txn(transaction)이라는 변수를 통해 열기\n",
        "# 이제 txn변수를 통해 직접 데이터에 접근 할 수 있음\n",
        "with env.begin(write=False) as txn:\n",
        "    for index in range(1, 5):\n",
        "        # index를 이용해서 라벨 키와 이미지 키를 만들면\n",
        "        # txn에서 라벨과 이미지를 읽어올 수 있음\n",
        "        label_key = 'label-%09d'.encode() % index\n",
        "        label = txn.get(label_key).decode('utf-8')\n",
        "        img_key = 'image-%09d'.encode() % index\n",
        "        imgbuf = txn.get(img_key)\n",
        "        buf = six.BytesIO()\n",
        "        buf.write(imgbuf)\n",
        "        buf.seek(0)\n",
        "\n",
        "        # 이미지는 버퍼를 통해 읽어오기 때문에 \n",
        "        # 버퍼에서 이미지로 변환하는 과정이 다시 필요\n",
        "        try:\n",
        "            img = Image.open(buf).convert('RGB')\n",
        "\n",
        "        except IOError:\n",
        "            img = Image.new('RGB', (100, 32))\n",
        "            label = '-'\n",
        "\n",
        "        # 원본 이미지 크기를 출력\n",
        "        width, height = img.size\n",
        "        print('original image width:{}, height:{}'.format(width, height))\n",
        "        \n",
        "        # 이미지 비율을 유지하면서 높이를 32로 바꿀 예정\n",
        "        # 하지만 너비를 100보다는 작게\n",
        "        target_width = min(int(width*32/height), 100)\n",
        "        target_img_size = (target_width,32)        \n",
        "        print('target_img_size:{}'.format(target_img_size))        \n",
        "        img = np.array(img.resize(target_img_size)).transpose(1,0,2)\n",
        "\n",
        "        # 이제 높이가 32로 일정한 이미지와 라벨을 함께 출력할 수 있음     \n",
        "        print('display img shape:{}'.format(img.shape))\n",
        "        print('label:{}'.format(label))\n",
        "        display(Image.fromarray(img.transpose(1,0,2).astype(np.uint8)))"
      ],
      "metadata": {
        "colab": {
          "base_uri": "https://localhost:8080/",
          "height": 422
        },
        "id": "cAWGUe_c67SU",
        "outputId": "47e14089-2104-44b6-88d4-bc87a177c971"
      },
      "execution_count": 3,
      "outputs": [
        {
          "output_type": "stream",
          "name": "stdout",
          "text": [
            "original image width:130, height:31\n",
            "target_img_size:(100, 32)\n",
            "display img shape:(100, 32, 3)\n",
            "label:slinking\n"
          ]
        },
        {
          "output_type": "display_data",
          "data": {
            "text/plain": [
              "<PIL.Image.Image image mode=RGB size=100x32 at 0x7FCD6F17F6D0>"
            ],
            "image/png": "[encoded data removed]"
          },
          "metadata": {}
        },
        {
          "output_type": "stream",
          "name": "stdout",
          "text": [
            "original image width:67, height:31\n",
            "target_img_size:(69, 32)\n",
            "display img shape:(69, 32, 3)\n",
            "label:REMODELERS\n"
          ]
        },
        {
          "output_type": "display_data",
          "data": {
            "text/plain": [
              "<PIL.Image.Image image mode=RGB size=69x32 at 0x7FCD6F17F890>"
            ],
            "image/png": "[encoded data removed]"
          },
          "metadata": {}
        },
        {
          "output_type": "stream",
          "name": "stdout",
          "text": [
            "original image width:169, height:31\n",
            "target_img_size:(100, 32)\n",
            "display img shape:(100, 32, 3)\n",
            "label:Chronographs\n"
          ]
        },
        {
          "output_type": "display_data",
          "data": {
            "text/plain": [
              "<PIL.Image.Image image mode=RGB size=100x32 at 0x7FCD6F17F910>"
            ],
            "image/png": "[encoded data removed]"
          },
          "metadata": {}
        },
        {
          "output_type": "stream",
          "name": "stdout",
          "text": [
            "original image width:110, height:31\n",
            "target_img_size:(100, 32)\n",
            "display img shape:(100, 32, 3)\n",
            "label:Impeaching\n"
          ]
        },
        {
          "output_type": "display_data",
          "data": {
            "text/plain": [
              "<PIL.Image.Image image mode=RGB size=100x32 at 0x7FCD6F17F8D0>"
            ],
            "image/png": "[encoded data removed]"
          },
          "metadata": {}
        }
      ]
    },
    {
      "cell_type": "code",
      "source": [
        "class MJDatasetSequence(Sequence):\n",
        "    # 객체를 초기화 할 때 lmdb를 열어 env에 준비\n",
        "    # 또, lmdb에 있는 데이터 수를 미리 파악\n",
        "    def __init__(self, \n",
        "                 dataset_path,\n",
        "                 label_converter,\n",
        "                 batch_size=1,\n",
        "                 img_size=(100,32),\n",
        "                 max_text_len=22,\n",
        "                 is_train=False,\n",
        "                 character='') :\n",
        "        \n",
        "        self.label_converter = label_converter\n",
        "        self.batch_size = batch_size\n",
        "        self.img_size = img_size\n",
        "        self.max_text_len = max_text_len\n",
        "        self.character = character\n",
        "        self.is_train = is_train\n",
        "        self.divide_length = 100\n",
        "\n",
        "        self.env = lmdb.open(dataset_path, max_readers=32, readonly=True, lock=False, readahead=False, meminit=False)\n",
        "        with self.env.begin(write=False) as txn:\n",
        "            self.num_samples = int(txn.get('num-samples'.encode()))\n",
        "            self.index_list = [index + 1 for index in range(self.num_samples)]\n",
        "        \n",
        "\n",
        "    def __len__(self):\n",
        "        return math.ceil(self.num_samples/self.batch_size/self.divide_length)\n",
        "    \n",
        "    # index에 해당하는 image와 label을 읽어\u001f\n",
        "    # 위에서 사용한 코드와 매우 유사\n",
        "    # label을 조금 더 다듬는 것이 약간 다름\n",
        "    def _get_img_label(self, index):\n",
        "        with self.env.begin(write=False) as txn:\n",
        "            label_key = 'label-%09d'.encode() % index\n",
        "            label = txn.get(label_key).decode('utf-8')\n",
        "            img_key = 'image-%09d'.encode() % index\n",
        "            imgbuf = txn.get(img_key)\n",
        "\n",
        "            buf = six.BytesIO()\n",
        "            buf.write(imgbuf)\n",
        "            buf.seek(0)\n",
        "            try:\n",
        "                img = Image.open(buf).convert('RGB')\n",
        "\n",
        "            except IOError:\n",
        "                img = Image.new('RGB', self.img_size)\n",
        "                label = '-'\n",
        "            width, height = img.size\n",
        "            \n",
        "            target_width = min(int(width*self.img_size[1]/height), self.img_size[0])\n",
        "            target_img_size = (target_width, self.img_size[1])\n",
        "            img = np.array(img.resize(target_img_size)).transpose(1,0,2)\n",
        "            # label을 약간 더 다듬기\n",
        "            label = label.upper()\n",
        "            out_of_char = f'[^{self.character}]'\n",
        "            label = re.sub(out_of_char, '', label)\n",
        "            label = label[:self.max_text_len]\n",
        "\n",
        "        return (img, label)\n",
        "    \n",
        "    # __getitem__은 약속되어 있는 메서드\n",
        "    # 이 부분을 작성하면 slice할 수 있음\n",
        "    # 자세히 알고 싶다면 아래 문서를 참고\n",
        "    # https://docs.python.org/3/reference/datamodel.html#object.__getitem__\n",
        "    # \n",
        "    # 1. idx에 해당하는 index_list만큼 데이터를 불러\n",
        "    # 2. image와 label을 불러오고 \n",
        "    # 3. 사용하기 좋은 inputs과 outputs형태로 반환\n",
        "    def __getitem__(self, idx):\n",
        "        # 1.\n",
        "        batch_indicies = self.index_list[\n",
        "            idx*self.batch_size:\n",
        "            (idx+1)*self.batch_size\n",
        "        ]\n",
        "        input_images = np.zeros([self.batch_size, *self.img_size, 3])\n",
        "        labels = np.zeros([self.batch_size, self.max_text_len], dtype='int64')\n",
        "\n",
        "        input_length = np.ones([self.batch_size], dtype='int64') * self.max_text_len\n",
        "        label_length = np.ones([self.batch_size], dtype='int64')\n",
        "\n",
        "        # 2.\n",
        "        for i, index in enumerate(batch_indicies):\n",
        "            img, label = self._get_img_label(index)\n",
        "            encoded_label = self.label_converter.encode(label)\n",
        "            # 인코딩 과정에서 '-'이 추가되면 max_text_len보다 길어질 수 있음\n",
        "            if len(encoded_label) > self.max_text_len:\n",
        "                continue\n",
        "            width = img.shape[0]\n",
        "            input_images[i,:width,:,:] = img\n",
        "            labels[i,0:len(encoded_label)] = encoded_label\n",
        "            label_length[i] = len(encoded_label)\n",
        "        \n",
        "        # 3.\n",
        "        inputs = {\n",
        "            'input_image': input_images,\n",
        "            'label': labels,\n",
        "            'input_length': input_length,\n",
        "            'label_length': label_length,\n",
        "        }\n",
        "        outputs = {'ctc': np.zeros([self.batch_size, 1])}\n",
        "\n",
        "        return inputs, outputs"
      ],
      "metadata": {
        "id": "ewcVaLws67Pq"
      },
      "execution_count": 4,
      "outputs": []
    },
    {
      "cell_type": "markdown",
      "source": [
        "## Encode"
      ],
      "metadata": {
        "id": "w9EpzDuU7VDh"
      }
    },
    {
      "cell_type": "code",
      "source": [
        "class LabelConverter(object):\n",
        "\n",
        "     def __init__(self, character):\n",
        "         self.character = \"-\" + character\n",
        "         self.label_map = dict()\n",
        "         for i, char in enumerate(self.character):\n",
        "             self.label_map[char] = i\n",
        "\n",
        "     def encode(self, text):\n",
        "         encoded_label = []\n",
        "         for i, char in enumerate(text):\n",
        "             if i > 0 and char == text[i - 1]:\n",
        "                 encoded_label.append(0)    # 같은 문자 사이에 공백 문자 label을 삽입\n",
        "             encoded_label.append(self.label_map[char])\n",
        "         return np.array(encoded_label)\n",
        "\n",
        "     def decode(self, encoded_label):\n",
        "         target_characters = list(self.character)\n",
        "         decoded_label = \"\"\n",
        "         for encode in encoded_label:\n",
        "             decoded_label += self.character[encode]\n",
        "         return decoded_label"
      ],
      "metadata": {
        "id": "feT2lXFV67NA"
      },
      "execution_count": 5,
      "outputs": []
    },
    {
      "cell_type": "code",
      "source": [
        "NUMBERS = \"0123456789\"\n",
        "ENG_CHAR_UPPER = \"ABCDEFGHIJKLMNOPQRSTUVWXYZ\"\n",
        "TARGET_CHARACTERS = ENG_CHAR_UPPER + NUMBERS\n",
        "print(f\"The total number of characters is {len(TARGET_CHARACTERS)}\")"
      ],
      "metadata": {
        "colab": {
          "base_uri": "https://localhost:8080/"
        },
        "id": "WD_4iRxx_jok",
        "outputId": "fda3f6fc-2cc3-408e-c863-71f23aeeb28f"
      },
      "execution_count": 6,
      "outputs": [
        {
          "output_type": "stream",
          "name": "stdout",
          "text": [
            "The total number of characters is 36\n"
          ]
        }
      ]
    },
    {
      "cell_type": "code",
      "source": [
        "# test\n",
        "label_converter = LabelConverter(TARGET_CHARACTERS)\n",
        "\n",
        "encdoded_text = label_converter.encode('HELLO')\n",
        "print(\"Encdoded_text: \", encdoded_text)\n",
        "decoded_text = label_converter.decode(encdoded_text)\n",
        "print(\"Decoded_text: \", decoded_text)"
      ],
      "metadata": {
        "colab": {
          "base_uri": "https://localhost:8080/"
        },
        "id": "Bvwoq3V067J9",
        "outputId": "205a82c6-256c-4981-adf6-5b1a82cab070"
      },
      "execution_count": 7,
      "outputs": [
        {
          "output_type": "stream",
          "name": "stdout",
          "text": [
            "Encdoded_text:  [ 8  5 12  0 12 15]\n",
            "Decoded_text:  HEL-LO\n"
          ]
        }
      ]
    },
    {
      "cell_type": "markdown",
      "source": [
        "## Build CRNN model"
      ],
      "metadata": {
        "id": "JowYuftZ7fqm"
      }
    },
    {
      "cell_type": "code",
      "source": [
        "def ctc_lambda_func(args): # CTC loss를 계산하기 위한 Lambda 함수\n",
        "    labels, y_pred, label_length, input_length = args\n",
        "    y_pred = y_pred[:, 2:, :]\n",
        "    return K.ctc_batch_cost(labels, y_pred, input_length, label_length)"
      ],
      "metadata": {
        "id": "AbK4HuXy67HT"
      },
      "execution_count": 8,
      "outputs": []
    },
    {
      "cell_type": "code",
      "source": [
        "def build_crnn_model(input_shape=(100,32,3), characters=TARGET_CHARACTERS):\n",
        "    num_chars = len(characters)+2\n",
        "    image_input = layers.Input(shape=input_shape, dtype='float32', name='input_image')\n",
        "    \n",
        "    # Build CRNN model\n",
        "    conv = layers.Conv2D(64, (3, 3), activation='relu', padding='same', kernel_initializer='he_normal')(image_input)\n",
        "    conv = layers.MaxPooling2D(pool_size=(2, 2))(conv)\n",
        "    conv = layers.Conv2D(128, (3, 3), activation='relu', padding='same', kernel_initializer='he_normal')(conv)\n",
        "    conv = layers.MaxPooling2D(pool_size=(2, 2))(conv)\n",
        "    conv = layers.Conv2D(256, (3, 3), activation='relu', padding='same', kernel_initializer='he_normal')(conv)\n",
        "    conv = layers.Conv2D(256, (3, 3), activation='relu', padding='same', kernel_initializer='he_normal')(conv)\n",
        "    conv = layers.MaxPooling2D(pool_size=(1, 2))(conv)\n",
        "    conv = layers.Conv2D(512, (3, 3), activation='relu', padding='same', kernel_initializer='he_normal')(conv)\n",
        "    conv = layers.BatchNormalization()(conv)\n",
        "    conv = layers.Conv2D(512, (3, 3), activation='relu', padding='same', kernel_initializer='he_normal')(conv)\n",
        "    conv = layers.BatchNormalization()(conv)\n",
        "    conv = layers.MaxPooling2D(pool_size=(1, 2))(conv)     \n",
        "    feature = layers.Conv2D(512, (2, 2), activation='relu', kernel_initializer='he_normal')(conv)\n",
        "    sequnce = layers.Reshape(target_shape=(24, 512))(feature)\n",
        "    sequnce = layers.Dense(64, activation='relu')(sequnce)\n",
        "    sequnce = layers.Bidirectional(layers.LSTM(256, return_sequences=True))(sequnce)\n",
        "    sequnce = layers.Bidirectional(layers.LSTM(256, return_sequences=True))(sequnce)\n",
        "    y_pred = layers.Dense(num_chars, activation='softmax', name='output')(sequnce)\n",
        "\n",
        "    labels = layers.Input(shape=[22], dtype='int64', name='label')\n",
        "    input_length = layers.Input(shape=[1], dtype='int64', name='input_length')\n",
        "    label_length = layers.Input(shape=[1], dtype='int64', name='label_length')\n",
        "    loss_out = layers.Lambda(ctc_lambda_func, output_shape=(1,), name=\"ctc\")(\n",
        "        [labels, y_pred, label_length, input_length]\n",
        "    )\n",
        "    model_input = [image_input, labels, input_length, label_length]\n",
        "    model = Model(\n",
        "        inputs=model_input,\n",
        "        outputs=loss_out\n",
        "    )\n",
        "    return model"
      ],
      "metadata": {
        "id": "PLJH5h2H67Ek"
      },
      "execution_count": 9,
      "outputs": []
    },
    {
      "cell_type": "markdown",
      "source": [
        "## Train & Inference"
      ],
      "metadata": {
        "id": "5sb727Ni7nL3"
      }
    },
    {
      "cell_type": "code",
      "source": [
        "# 데이터셋과 모델을 준비\n",
        "train_set = MJDatasetSequence(TRAIN_DATA_PATH, label_converter, batch_size=BATCH_SIZE, character=TARGET_CHARACTERS, is_train=True)\n",
        "val_set = MJDatasetSequence(VALID_DATA_PATH, label_converter, batch_size=BATCH_SIZE, character=TARGET_CHARACTERS)\n",
        "model = build_crnn_model()\n",
        "\n",
        "# 모델 컴파일\n",
        "optimizer = tf.keras.optimizers.Adadelta(lr=0.1, clipnorm=5)\n",
        "model.compile(loss={'ctc': lambda y_true, y_pred: y_pred}, optimizer=optimizer)"
      ],
      "metadata": {
        "colab": {
          "base_uri": "https://localhost:8080/"
        },
        "id": "zjI_aBX77orf",
        "outputId": "d2d7dc70-08cb-48b4-8cac-8d954bfa8bf2"
      },
      "execution_count": 10,
      "outputs": [
        {
          "output_type": "stream",
          "name": "stderr",
          "text": [
            "/usr/local/lib/python3.7/dist-packages/keras/optimizer_v2/adadelta.py:74: UserWarning: The `lr` argument is deprecated, use `learning_rate` instead.\n",
            "  super(Adadelta, self).__init__(name, **kwargs)\n"
          ]
        }
      ]
    },
    {
      "cell_type": "code",
      "source": [
        "# 훈련이 빨리 끝날 수 있도록 ModelCheckPoint와 EarlyStopping을 사용\n",
        "checkpoint_path = '/content/model_checkpoint.hdf5'\n",
        "ckp = tf.keras.callbacks.ModelCheckpoint(\n",
        "    checkpoint_path, monitor='val_loss',\n",
        "    verbose=1, save_best_only=True, save_weights_only=True\n",
        ")\n",
        "earlystop = tf.keras.callbacks.EarlyStopping(\n",
        "    monitor='val_loss', min_delta=0, patience=10, verbose=0, mode='min'\n",
        ")\n",
        "model.fit(train_set,\n",
        "          steps_per_epoch=len(train_set),\n",
        "          epochs=150,\n",
        "          validation_data=val_set,\n",
        "          validation_steps=len(val_set),\n",
        "          callbacks=[ckp, earlystop])"
      ],
      "metadata": {
        "colab": {
          "base_uri": "https://localhost:8080/"
        },
        "id": "Bk2KZSjd7on9",
        "outputId": "75d3db58-f065-47d8-e20c-bc0edccb38fd"
      },
      "execution_count": 11,
      "outputs": [
        {
          "output_type": "stream",
          "name": "stdout",
          "text": [
            "Epoch 1/150\n",
            "35/35 [==============================] - ETA: 0s - loss: 30.5244\n",
            "Epoch 1: val_loss improved from inf to 27.60015, saving model to /content/model_checkpoint.hdf5\n",
            "35/35 [==============================] - 100s 2s/step - loss: 30.5244 - val_loss: 27.6001\n",
            "Epoch 2/150\n",
            "35/35 [==============================] - ETA: 0s - loss: 26.9539\n",
            "Epoch 2: val_loss improved from 27.60015 to 26.69818, saving model to /content/model_checkpoint.hdf5\n",
            "35/35 [==============================] - 75s 2s/step - loss: 26.9539 - val_loss: 26.6982\n",
            "Epoch 3/150\n",
            "35/35 [==============================] - ETA: 0s - loss: 26.4579\n",
            "Epoch 3: val_loss improved from 26.69818 to 26.68620, saving model to /content/model_checkpoint.hdf5\n",
            "35/35 [==============================] - 76s 2s/step - loss: 26.4579 - val_loss: 26.6862\n",
            "Epoch 4/150\n",
            "35/35 [==============================] - ETA: 0s - loss: 26.1406\n",
            "Epoch 4: val_loss improved from 26.68620 to 26.15752, saving model to /content/model_checkpoint.hdf5\n",
            "35/35 [==============================] - 76s 2s/step - loss: 26.1406 - val_loss: 26.1575\n",
            "Epoch 5/150\n",
            "35/35 [==============================] - ETA: 0s - loss: 25.8332\n",
            "Epoch 5: val_loss did not improve from 26.15752\n",
            "35/35 [==============================] - 76s 2s/step - loss: 25.8332 - val_loss: 26.8784\n",
            "Epoch 6/150\n",
            "35/35 [==============================] - ETA: 0s - loss: 25.6777\n",
            "Epoch 6: val_loss improved from 26.15752 to 25.63186, saving model to /content/model_checkpoint.hdf5\n",
            "35/35 [==============================] - 76s 2s/step - loss: 25.6777 - val_loss: 25.6319\n",
            "Epoch 7/150\n",
            "35/35 [==============================] - ETA: 0s - loss: 25.4346\n",
            "Epoch 7: val_loss did not improve from 25.63186\n",
            "35/35 [==============================] - 76s 2s/step - loss: 25.4346 - val_loss: 25.9125\n",
            "Epoch 8/150\n",
            "35/35 [==============================] - ETA: 0s - loss: 25.2715\n",
            "Epoch 8: val_loss did not improve from 25.63186\n",
            "35/35 [==============================] - 76s 2s/step - loss: 25.2715 - val_loss: 26.9565\n",
            "Epoch 9/150\n",
            "35/35 [==============================] - ETA: 0s - loss: 25.0352\n",
            "Epoch 9: val_loss did not improve from 25.63186\n",
            "35/35 [==============================] - 76s 2s/step - loss: 25.0352 - val_loss: 29.2598\n",
            "Epoch 10/150\n",
            "35/35 [==============================] - ETA: 0s - loss: 24.8002\n",
            "Epoch 10: val_loss improved from 25.63186 to 25.33694, saving model to /content/model_checkpoint.hdf5\n",
            "35/35 [==============================] - 75s 2s/step - loss: 24.8002 - val_loss: 25.3369\n",
            "Epoch 11/150\n",
            "35/35 [==============================] - ETA: 0s - loss: 24.4470\n",
            "Epoch 11: val_loss improved from 25.33694 to 24.89978, saving model to /content/model_checkpoint.hdf5\n",
            "35/35 [==============================] - 76s 2s/step - loss: 24.4470 - val_loss: 24.8998\n",
            "Epoch 12/150\n",
            "35/35 [==============================] - ETA: 0s - loss: 24.0388\n",
            "Epoch 12: val_loss did not improve from 24.89978\n",
            "35/35 [==============================] - 76s 2s/step - loss: 24.0388 - val_loss: 26.5418\n",
            "Epoch 13/150\n",
            "35/35 [==============================] - ETA: 0s - loss: 23.6071\n",
            "Epoch 13: val_loss did not improve from 24.89978\n",
            "35/35 [==============================] - 76s 2s/step - loss: 23.6071 - val_loss: 25.5807\n",
            "Epoch 14/150\n",
            "35/35 [==============================] - ETA: 0s - loss: 23.0738\n",
            "Epoch 14: val_loss improved from 24.89978 to 23.81454, saving model to /content/model_checkpoint.hdf5\n",
            "35/35 [==============================] - 76s 2s/step - loss: 23.0738 - val_loss: 23.8145\n",
            "Epoch 15/150\n",
            "35/35 [==============================] - ETA: 0s - loss: 22.4041\n",
            "Epoch 15: val_loss did not improve from 23.81454\n",
            "35/35 [==============================] - 75s 2s/step - loss: 22.4041 - val_loss: 24.0944\n",
            "Epoch 16/150\n",
            "35/35 [==============================] - ETA: 0s - loss: 21.5840\n",
            "Epoch 16: val_loss improved from 23.81454 to 23.43550, saving model to /content/model_checkpoint.hdf5\n",
            "35/35 [==============================] - 76s 2s/step - loss: 21.5840 - val_loss: 23.4355\n",
            "Epoch 17/150\n",
            "35/35 [==============================] - ETA: 0s - loss: 20.5118\n",
            "Epoch 17: val_loss improved from 23.43550 to 22.78959, saving model to /content/model_checkpoint.hdf5\n",
            "35/35 [==============================] - 76s 2s/step - loss: 20.5118 - val_loss: 22.7896\n",
            "Epoch 18/150\n",
            "35/35 [==============================] - ETA: 0s - loss: 19.0777\n",
            "Epoch 18: val_loss improved from 22.78959 to 20.08681, saving model to /content/model_checkpoint.hdf5\n",
            "35/35 [==============================] - 76s 2s/step - loss: 19.0777 - val_loss: 20.0868\n",
            "Epoch 19/150\n",
            "35/35 [==============================] - ETA: 0s - loss: 17.6836\n",
            "Epoch 19: val_loss improved from 20.08681 to 19.56469, saving model to /content/model_checkpoint.hdf5\n",
            "35/35 [==============================] - 76s 2s/step - loss: 17.6836 - val_loss: 19.5647\n",
            "Epoch 20/150\n",
            "35/35 [==============================] - ETA: 0s - loss: 16.1446\n",
            "Epoch 20: val_loss improved from 19.56469 to 18.45392, saving model to /content/model_checkpoint.hdf5\n",
            "35/35 [==============================] - 76s 2s/step - loss: 16.1446 - val_loss: 18.4539\n",
            "Epoch 21/150\n",
            "35/35 [==============================] - ETA: 0s - loss: 14.6308\n",
            "Epoch 21: val_loss improved from 18.45392 to 18.18504, saving model to /content/model_checkpoint.hdf5\n",
            "35/35 [==============================] - 76s 2s/step - loss: 14.6308 - val_loss: 18.1850\n",
            "Epoch 22/150\n",
            "35/35 [==============================] - ETA: 0s - loss: 13.2200\n",
            "Epoch 22: val_loss improved from 18.18504 to 16.60728, saving model to /content/model_checkpoint.hdf5\n",
            "35/35 [==============================] - 76s 2s/step - loss: 13.2200 - val_loss: 16.6073\n",
            "Epoch 23/150\n",
            "35/35 [==============================] - ETA: 0s - loss: 11.8754\n",
            "Epoch 23: val_loss improved from 16.60728 to 15.63871, saving model to /content/model_checkpoint.hdf5\n",
            "35/35 [==============================] - 76s 2s/step - loss: 11.8754 - val_loss: 15.6387\n",
            "Epoch 24/150\n",
            "35/35 [==============================] - ETA: 0s - loss: 10.7232\n",
            "Epoch 24: val_loss improved from 15.63871 to 13.87257, saving model to /content/model_checkpoint.hdf5\n",
            "35/35 [==============================] - 76s 2s/step - loss: 10.7232 - val_loss: 13.8726\n",
            "Epoch 25/150\n",
            "35/35 [==============================] - ETA: 0s - loss: 9.6950\n",
            "Epoch 25: val_loss improved from 13.87257 to 13.04288, saving model to /content/model_checkpoint.hdf5\n",
            "35/35 [==============================] - 76s 2s/step - loss: 9.6950 - val_loss: 13.0429\n",
            "Epoch 26/150\n",
            "35/35 [==============================] - ETA: 0s - loss: 8.8297\n",
            "Epoch 26: val_loss improved from 13.04288 to 11.68524, saving model to /content/model_checkpoint.hdf5\n",
            "35/35 [==============================] - 76s 2s/step - loss: 8.8297 - val_loss: 11.6852\n",
            "Epoch 27/150\n",
            "35/35 [==============================] - ETA: 0s - loss: 7.9031\n",
            "Epoch 27: val_loss improved from 11.68524 to 11.55488, saving model to /content/model_checkpoint.hdf5\n",
            "35/35 [==============================] - 76s 2s/step - loss: 7.9031 - val_loss: 11.5549\n",
            "Epoch 28/150\n",
            "35/35 [==============================] - ETA: 0s - loss: 7.2428\n",
            "Epoch 28: val_loss did not improve from 11.55488\n",
            "35/35 [==============================] - 76s 2s/step - loss: 7.2428 - val_loss: 12.0571\n",
            "Epoch 29/150\n",
            "35/35 [==============================] - ETA: 0s - loss: 6.4468\n",
            "Epoch 29: val_loss improved from 11.55488 to 10.50230, saving model to /content/model_checkpoint.hdf5\n",
            "35/35 [==============================] - 76s 2s/step - loss: 6.4468 - val_loss: 10.5023\n",
            "Epoch 30/150\n",
            "35/35 [==============================] - ETA: 0s - loss: 5.8836\n",
            "Epoch 30: val_loss improved from 10.50230 to 9.94640, saving model to /content/model_checkpoint.hdf5\n",
            "35/35 [==============================] - 76s 2s/step - loss: 5.8836 - val_loss: 9.9464\n",
            "Epoch 31/150\n",
            "35/35 [==============================] - ETA: 0s - loss: 5.2116\n",
            "Epoch 31: val_loss did not improve from 9.94640\n",
            "35/35 [==============================] - 76s 2s/step - loss: 5.2116 - val_loss: 10.8076\n",
            "Epoch 32/150\n",
            "35/35 [==============================] - ETA: 0s - loss: 4.7564\n",
            "Epoch 32: val_loss did not improve from 9.94640\n",
            "35/35 [==============================] - 76s 2s/step - loss: 4.7564 - val_loss: 10.1628\n",
            "Epoch 33/150\n",
            "35/35 [==============================] - ETA: 0s - loss: 4.2418\n",
            "Epoch 33: val_loss did not improve from 9.94640\n",
            "35/35 [==============================] - 76s 2s/step - loss: 4.2418 - val_loss: 10.2790\n",
            "Epoch 34/150\n",
            "35/35 [==============================] - ETA: 0s - loss: 3.7518\n",
            "Epoch 34: val_loss did not improve from 9.94640\n",
            "35/35 [==============================] - 76s 2s/step - loss: 3.7518 - val_loss: 10.1700\n",
            "Epoch 35/150\n",
            "35/35 [==============================] - ETA: 0s - loss: 3.3411\n",
            "Epoch 35: val_loss did not improve from 9.94640\n",
            "35/35 [==============================] - 75s 2s/step - loss: 3.3411 - val_loss: 9.9493\n",
            "Epoch 36/150\n",
            "35/35 [==============================] - ETA: 0s - loss: 2.9379\n",
            "Epoch 36: val_loss did not improve from 9.94640\n",
            "35/35 [==============================] - 76s 2s/step - loss: 2.9379 - val_loss: 10.1926\n",
            "Epoch 37/150\n",
            "35/35 [==============================] - ETA: 0s - loss: 2.6094\n",
            "Epoch 37: val_loss improved from 9.94640 to 9.83029, saving model to /content/model_checkpoint.hdf5\n",
            "35/35 [==============================] - 75s 2s/step - loss: 2.6094 - val_loss: 9.8303\n",
            "Epoch 38/150\n",
            "35/35 [==============================] - ETA: 0s - loss: 2.2760\n",
            "Epoch 38: val_loss did not improve from 9.83029\n",
            "35/35 [==============================] - 75s 2s/step - loss: 2.2760 - val_loss: 10.0068\n",
            "Epoch 39/150\n",
            "35/35 [==============================] - ETA: 0s - loss: 1.9365\n",
            "Epoch 39: val_loss did not improve from 9.83029\n",
            "35/35 [==============================] - 75s 2s/step - loss: 1.9365 - val_loss: 10.0226\n",
            "Epoch 40/150\n",
            "35/35 [==============================] - ETA: 0s - loss: 1.7192\n",
            "Epoch 40: val_loss did not improve from 9.83029\n",
            "35/35 [==============================] - 76s 2s/step - loss: 1.7192 - val_loss: 10.0384\n",
            "Epoch 41/150\n",
            "35/35 [==============================] - ETA: 0s - loss: 1.4657\n",
            "Epoch 41: val_loss did not improve from 9.83029\n",
            "35/35 [==============================] - 76s 2s/step - loss: 1.4657 - val_loss: 10.6125\n",
            "Epoch 42/150\n",
            "35/35 [==============================] - ETA: 0s - loss: 1.2234\n",
            "Epoch 42: val_loss did not improve from 9.83029\n",
            "35/35 [==============================] - 76s 2s/step - loss: 1.2234 - val_loss: 10.5217\n",
            "Epoch 43/150\n",
            "35/35 [==============================] - ETA: 0s - loss: 1.0443\n",
            "Epoch 43: val_loss did not improve from 9.83029\n",
            "35/35 [==============================] - 75s 2s/step - loss: 1.0443 - val_loss: 10.7761\n",
            "Epoch 44/150\n",
            "35/35 [==============================] - ETA: 0s - loss: 0.9373\n",
            "Epoch 44: val_loss did not improve from 9.83029\n",
            "35/35 [==============================] - 76s 2s/step - loss: 0.9373 - val_loss: 10.5840\n",
            "Epoch 45/150\n",
            "35/35 [==============================] - ETA: 0s - loss: 0.7423\n",
            "Epoch 45: val_loss did not improve from 9.83029\n",
            "35/35 [==============================] - 75s 2s/step - loss: 0.7423 - val_loss: 11.0478\n",
            "Epoch 46/150\n",
            "35/35 [==============================] - ETA: 0s - loss: 0.6091\n",
            "Epoch 46: val_loss did not improve from 9.83029\n",
            "35/35 [==============================] - 75s 2s/step - loss: 0.6091 - val_loss: 10.8501\n",
            "Epoch 47/150\n",
            "35/35 [==============================] - ETA: 0s - loss: 0.5455\n",
            "Epoch 47: val_loss did not improve from 9.83029\n",
            "35/35 [==============================] - 75s 2s/step - loss: 0.5455 - val_loss: 11.1203\n"
          ]
        },
        {
          "output_type": "execute_result",
          "data": {
            "text/plain": [
              "<keras.callbacks.History at 0x7fc6ea302bd0>"
            ]
          },
          "metadata": {},
          "execution_count": 11
        }
      ]
    },
    {
      "cell_type": "code",
      "source": [
        "# 다음은 학습된 모델의 가중치가 저장된 경로\n",
        "checkpoint_path = '/content/model_checkpoint.hdf5'\n",
        "\n",
        "# 데이터셋과 모델을 불러오기\n",
        "test_set = MJDatasetSequence(TEST_DATA_PATH, label_converter, batch_size=BATCH_SIZE, character=TARGET_CHARACTERS)\n",
        "model = build_crnn_model()\n",
        "model.load_weights(checkpoint_path)\n",
        "\n",
        "# crnn 모델은 입력이 복잡한 구조이므로 그대로 사용할 수가 없음\n",
        "# 따라서 crnn 모델의 입력중 'input_image' 부분만 사용한 모델을 새로 만들 예정\n",
        "# inference 전용 모델\n",
        "input_data = model.get_layer('input_image').output\n",
        "y_pred = model.get_layer('output').output\n",
        "model_pred = Model(inputs=input_data, outputs=y_pred)"
      ],
      "metadata": {
        "id": "dZ7vFkRJ7olP"
      },
      "execution_count": 12,
      "outputs": []
    },
    {
      "cell_type": "code",
      "source": [
        "from IPython.display import display\n",
        "\n",
        "# 모델이 inference한 결과를 글자로 바꿔주는 역할\n",
        "def decode_predict_ctc(out, chars = TARGET_CHARACTERS):\n",
        "    results = []\n",
        "    indexes = K.get_value(\n",
        "        K.ctc_decode(\n",
        "            out, input_length=np.ones(out.shape[0]) * out.shape[1],\n",
        "            greedy=False , beam_width=5, top_paths=1\n",
        "        )[0][0]\n",
        "    )[0]\n",
        "    text = \"\"\n",
        "    for index in indexes:\n",
        "        text += chars[index]\n",
        "    results.append(text)\n",
        "    return results\n",
        "\n",
        "# 모델과 데이터셋이 주어지면 inference를 수행\n",
        "# index개 만큼의 데이터를 읽어 모델로 inference를 수행하고\n",
        "# 결과를 디코딩해 출력\n",
        "def check_inference(model, dataset, index = 5):\n",
        "    for i in range(index):\n",
        "        inputs, outputs = dataset[i]\n",
        "        img = dataset[i][0]['input_image'][0:1,:,:,:]\n",
        "        output = model.predict(img)\n",
        "        result = decode_predict_ctc(output, chars=\"-\"+TARGET_CHARACTERS)[0].replace('-','')\n",
        "        print(\"Result: \\t\", result)\n",
        "        display(Image.fromarray(img[0].transpose(1,0,2).astype(np.uint8)))\n",
        "\n",
        "check_inference(model_pred, test_set, index=10)"
      ],
      "metadata": {
        "colab": {
          "base_uri": "https://localhost:8080/",
          "height": 510
        },
        "id": "JTW0ja287oiQ",
        "outputId": "711244ad-9ccf-4386-a344-078b826c6463"
      },
      "execution_count": 13,
      "outputs": [
        {
          "output_type": "stream",
          "name": "stdout",
          "text": [
            "Result: \t AMOIOKER9999999999999999\n"
          ]
        },
        {
          "output_type": "display_data",
          "data": {
            "text/plain": [
              "<PIL.Image.Image image mode=RGB size=100x32 at 0x7FC6E3BA9390>"
            ],
            "image/png": "[encoded data removed]"
          },
          "metadata": {}
        },
        {
          "output_type": "stream",
          "name": "stdout",
          "text": [
            "Result: \t RESHUDTED999999999999999\n"
          ]
        },
        {
          "output_type": "display_data",
          "data": {
            "text/plain": [
              "<PIL.Image.Image image mode=RGB size=100x32 at 0x7FC6E3B46E50>"
            ],
            "image/png": "[encoded data removed]"
          },
          "metadata": {}
        },
        {
          "output_type": "stream",
          "name": "stdout",
          "text": [
            "Result: \t SWERWLI99999999999999999\n"
          ]
        },
        {
          "output_type": "display_data",
          "data": {
            "text/plain": [
              "<PIL.Image.Image image mode=RGB size=100x32 at 0x7FC6EA323490>"
            ],
            "image/png": "[encoded data removed]"
          },
          "metadata": {}
        },
        {
          "output_type": "stream",
          "name": "stdout",
          "text": [
            "Result: \t BEBLED99999999999999999\n"
          ]
        },
        {
          "output_type": "display_data",
          "data": {
            "text/plain": [
              "<PIL.Image.Image image mode=RGB size=100x32 at 0x7FC6E381B250>"
            ],
            "image/png": "[encoded data removed]"
          },
          "metadata": {}
        },
        {
          "output_type": "stream",
          "name": "stdout",
          "text": [
            "Result: \t BSDAE999999999999999999\n"
          ]
        },
        {
          "output_type": "display_data",
          "data": {
            "text/plain": [
              "<PIL.Image.Image image mode=RGB size=100x32 at 0x7FC6E37CCA10>"
            ],
            "image/png": "[encoded data removed]"
          },
          "metadata": {}
        },
        {
          "output_type": "stream",
          "name": "stdout",
          "text": [
            "Result: \t GONSERVES999999999999999\n"
          ]
        },
        {
          "output_type": "display_data",
          "data": {
            "text/plain": [
              "<PIL.Image.Image image mode=RGB size=100x32 at 0x7FC6E3870B50>"
            ],
            "image/png": "[encoded data removed]"
          },
          "metadata": {}
        },
        {
          "output_type": "stream",
          "name": "stdout",
          "text": [
            "Result: \t PAVED9999999999999999999\n"
          ]
        },
        {
          "output_type": "display_data",
          "data": {
            "text/plain": [
              "<PIL.Image.Image image mode=RGB size=100x32 at 0x7FC6E3861F50>"
            ],
            "image/png": "[encoded data removed]"
          },
          "metadata": {}
        },
        {
          "output_type": "stream",
          "name": "stdout",
          "text": [
            "Result: \t UNLICS999999999999999999\n"
          ]
        },
        {
          "output_type": "display_data",
          "data": {
            "text/plain": [
              "<PIL.Image.Image image mode=RGB size=100x32 at 0x7FC6E37E1550>"
            ],
            "image/png": "[encoded data removed]"
          },
          "metadata": {}
        },
        {
          "output_type": "stream",
          "name": "stdout",
          "text": [
            "Result: \t MISTUALING99999999999999\n"
          ]
        },
        {
          "output_type": "display_data",
          "data": {
            "text/plain": [
              "<PIL.Image.Image image mode=RGB size=100x32 at 0x7FC6E3BA9390>"
            ],
            "image/png": "[encoded data removed]"
          },
          "metadata": {}
        },
        {
          "output_type": "stream",
          "name": "stdout",
          "text": [
            "Result: \t OVERIOY99999999999999999\n"
          ]
        },
        {
          "output_type": "display_data",
          "data": {
            "text/plain": [
              "<PIL.Image.Image image mode=RGB size=100x32 at 0x7FC6E387F510>"
            ],
            "image/png": "[encoded data removed]"
          },
          "metadata": {}
        }
      ]
    },
    {
      "cell_type": "markdown",
      "source": [
        "## Visualization"
      ],
      "metadata": {
        "id": "ShnopqI27z7r"
      }
    },
    {
      "cell_type": "code",
      "source": [
        "! pip install keras_ocr"
      ],
      "metadata": {
        "colab": {
          "base_uri": "https://localhost:8080/"
        },
        "id": "eRXVJKzHAlyB",
        "outputId": "1c6a3047-9624-4db4-eb5e-969501b6fe61"
      },
      "execution_count": 14,
      "outputs": [
        {
          "output_type": "stream",
          "name": "stdout",
          "text": [
            "Requirement already satisfied: keras_ocr in /usr/local/lib/python3.7/dist-packages (0.8.9)\n",
            "Requirement already satisfied: fonttools in /usr/local/lib/python3.7/dist-packages (from keras_ocr) (4.32.0)\n",
            "Requirement already satisfied: shapely in /usr/local/lib/python3.7/dist-packages (from keras_ocr) (1.8.1.post1)\n",
            "Requirement already satisfied: imgaug in /usr/local/lib/python3.7/dist-packages (from keras_ocr) (0.2.9)\n",
            "Requirement already satisfied: pyclipper in /usr/local/lib/python3.7/dist-packages (from keras_ocr) (1.3.0.post2)\n",
            "Requirement already satisfied: tqdm in /usr/local/lib/python3.7/dist-packages (from keras_ocr) (4.64.0)\n",
            "Requirement already satisfied: essential_generators in /usr/local/lib/python3.7/dist-packages (from keras_ocr) (1.0)\n",
            "Requirement already satisfied: efficientnet==1.0.0 in /usr/local/lib/python3.7/dist-packages (from keras_ocr) (1.0.0)\n",
            "Requirement already satisfied: editdistance in /usr/local/lib/python3.7/dist-packages (from keras_ocr) (0.5.3)\n",
            "Requirement already satisfied: validators in /usr/local/lib/python3.7/dist-packages (from keras_ocr) (0.18.2)\n",
            "Requirement already satisfied: keras-applications<=1.0.8,>=1.0.7 in /usr/local/lib/python3.7/dist-packages (from efficientnet==1.0.0->keras_ocr) (1.0.8)\n",
            "Requirement already satisfied: scikit-image in /usr/local/lib/python3.7/dist-packages (from efficientnet==1.0.0->keras_ocr) (0.18.3)\n",
            "Requirement already satisfied: numpy>=1.9.1 in /usr/local/lib/python3.7/dist-packages (from keras-applications<=1.0.8,>=1.0.7->efficientnet==1.0.0->keras_ocr) (1.21.5)\n",
            "Requirement already satisfied: h5py in /usr/local/lib/python3.7/dist-packages (from keras-applications<=1.0.8,>=1.0.7->efficientnet==1.0.0->keras_ocr) (3.1.0)\n",
            "Requirement already satisfied: cached-property in /usr/local/lib/python3.7/dist-packages (from h5py->keras-applications<=1.0.8,>=1.0.7->efficientnet==1.0.0->keras_ocr) (1.5.2)\n",
            "Requirement already satisfied: imageio in /usr/local/lib/python3.7/dist-packages (from imgaug->keras_ocr) (2.4.1)\n",
            "Requirement already satisfied: scipy in /usr/local/lib/python3.7/dist-packages (from imgaug->keras_ocr) (1.4.1)\n",
            "Requirement already satisfied: Pillow in /usr/local/lib/python3.7/dist-packages (from imgaug->keras_ocr) (7.1.2)\n",
            "Requirement already satisfied: six in /usr/local/lib/python3.7/dist-packages (from imgaug->keras_ocr) (1.15.0)\n",
            "Requirement already satisfied: matplotlib in /usr/local/lib/python3.7/dist-packages (from imgaug->keras_ocr) (3.2.2)\n",
            "Requirement already satisfied: opencv-python in /usr/local/lib/python3.7/dist-packages (from imgaug->keras_ocr) (4.1.2.30)\n",
            "Requirement already satisfied: tifffile>=2019.7.26 in /usr/local/lib/python3.7/dist-packages (from scikit-image->efficientnet==1.0.0->keras_ocr) (2021.11.2)\n",
            "Requirement already satisfied: PyWavelets>=1.1.1 in /usr/local/lib/python3.7/dist-packages (from scikit-image->efficientnet==1.0.0->keras_ocr) (1.3.0)\n",
            "Requirement already satisfied: networkx>=2.0 in /usr/local/lib/python3.7/dist-packages (from scikit-image->efficientnet==1.0.0->keras_ocr) (2.6.3)\n",
            "Requirement already satisfied: pyparsing!=2.0.4,!=2.1.2,!=2.1.6,>=2.0.1 in /usr/local/lib/python3.7/dist-packages (from matplotlib->imgaug->keras_ocr) (3.0.8)\n",
            "Requirement already satisfied: kiwisolver>=1.0.1 in /usr/local/lib/python3.7/dist-packages (from matplotlib->imgaug->keras_ocr) (1.4.2)\n",
            "Requirement already satisfied: cycler>=0.10 in /usr/local/lib/python3.7/dist-packages (from matplotlib->imgaug->keras_ocr) (0.11.0)\n",
            "Requirement already satisfied: python-dateutil>=2.1 in /usr/local/lib/python3.7/dist-packages (from matplotlib->imgaug->keras_ocr) (2.8.2)\n",
            "Requirement already satisfied: typing-extensions in /usr/local/lib/python3.7/dist-packages (from kiwisolver>=1.0.1->matplotlib->imgaug->keras_ocr) (4.1.1)\n",
            "Requirement already satisfied: decorator>=3.4.0 in /usr/local/lib/python3.7/dist-packages (from validators->keras_ocr) (4.4.2)\n"
          ]
        }
      ]
    },
    {
      "cell_type": "code",
      "source": [
        "from keras_ocr.detection import Detector\n",
        "import cv2\n",
        "import matplotlib.pyplot as plt\n",
        "\n",
        "SAMPLE_IMG_PATH = '/content/sample.jpg'\n",
        "\n",
        "detector = Detector()"
      ],
      "metadata": {
        "colab": {
          "base_uri": "https://localhost:8080/"
        },
        "id": "Z2WE63PY7oem",
        "outputId": "8c022ecf-7d86-4b01-e890-77bb82d6baf3"
      },
      "execution_count": 17,
      "outputs": [
        {
          "output_type": "stream",
          "name": "stdout",
          "text": [
            "Looking for /root/.keras-ocr/craft_mlt_25k.h5\n"
          ]
        }
      ]
    },
    {
      "cell_type": "code",
      "source": [
        "def detect_text(img_path):\n",
        "    img = cv2.imread(img_path)\n",
        "    line_img = img.copy()\n",
        "    input_img = img[tf.newaxis,...]\n",
        "    result = detector.detect(input_img)\n",
        "    ocr_result = result[0]\n",
        "    \n",
        "    cropped_imgs = []\n",
        "    for text_result in ocr_result:\n",
        "        for i in range(4):\n",
        "            if i==3:\n",
        "                line_img = cv2.line(line_img,tuple(text_result[3]),tuple(text_result[0]),(0,0,255),10)\n",
        "            else:\n",
        "                line_img = cv2.line(line_img,tuple(text_result[i]),tuple(text_result[i+1]),(0,0,255),10)\n",
        "        \n",
        "        x_min = text_result[:,0].min() - 5\n",
        "        x_max = text_result[:,0].max() + 5\n",
        "        y_min = text_result[:,1].min() - 5\n",
        "        y_max = text_result[:,1].max() + 5\n",
        "        cropped_imgs.append(img[int(y_min):int(y_max),int(x_min):int(x_max)])\n",
        "    \n",
        "    return line_img, cropped_imgs"
      ],
      "metadata": {
        "id": "_OnOwfJB7oYa"
      },
      "execution_count": 18,
      "outputs": []
    },
    {
      "cell_type": "code",
      "source": [
        "img_pil, cropped_img = detect_text(SAMPLE_IMG_PATH)\n",
        "display(img_pil)"
      ],
      "metadata": {
        "colab": {
          "base_uri": "https://localhost:8080/",
          "height": 866
        },
        "id": "klI1U1867n_T",
        "outputId": "56bb48bf-7364-46ee-a8f1-2b1e5c842912"
      },
      "execution_count": 19,
      "outputs": [
        {
          "output_type": "display_data",
          "data": {
            "text/plain": [
              "array([[[209, 214, 213],\n",
              "        [206, 211, 210],\n",
              "        [202, 207, 206],\n",
              "        ...,\n",
              "        [178, 182, 187],\n",
              "        [178, 182, 187],\n",
              "        [181, 185, 190]],\n",
              "\n",
              "       [[184, 189, 188],\n",
              "        [183, 188, 187],\n",
              "        [181, 186, 185],\n",
              "        ...,\n",
              "        [178, 182, 187],\n",
              "        [177, 181, 186],\n",
              "        [178, 182, 187]],\n",
              "\n",
              "       [[171, 176, 175],\n",
              "        [171, 176, 175],\n",
              "        [172, 177, 176],\n",
              "        ...,\n",
              "        [179, 183, 188],\n",
              "        [180, 184, 189],\n",
              "        [183, 187, 192]],\n",
              "\n",
              "       ...,\n",
              "\n",
              "       [[103,  77,  60],\n",
              "        [105,  79,  62],\n",
              "        [106,  80,  63],\n",
              "        ...,\n",
              "        [101,  73,  56],\n",
              "        [102,  74,  57],\n",
              "        [102,  74,  57]],\n",
              "\n",
              "       [[104,  78,  61],\n",
              "        [105,  79,  62],\n",
              "        [107,  81,  64],\n",
              "        ...,\n",
              "        [102,  74,  57],\n",
              "        [103,  75,  58],\n",
              "        [103,  75,  58]],\n",
              "\n",
              "       [[103,  77,  60],\n",
              "        [105,  79,  62],\n",
              "        [107,  81,  64],\n",
              "        ...,\n",
              "        [102,  74,  57],\n",
              "        [103,  75,  58],\n",
              "        [104,  76,  59]]], dtype=uint8)"
            ]
          },
          "metadata": {}
        }
      ]
    },
    {
      "cell_type": "code",
      "source": [
        "def recognize_img(input_img, input_img_size=(100,32)):\n",
        "    img = input_img[:,:,::-1]\n",
        "    img = cv2.resize(img, input_img_size)\n",
        "    result_img = img.copy()\n",
        "    img = img.transpose(1,0,2)\n",
        "    img = img[tf.newaxis,...]\n",
        "    output = model_pred.predict(img)\n",
        "    result = decode_predict_ctc(output, chars=\"-\"+TARGET_CHARACTERS)[0].replace('-','')\n",
        "    print(\"Result: \\t\", result)\n",
        "    display(Image.fromarray(img[0].transpose(1,0,2).astype(np.uint8)))"
      ],
      "metadata": {
        "id": "IuHebW9M669H"
      },
      "execution_count": 20,
      "outputs": []
    },
    {
      "cell_type": "code",
      "source": [
        "for _img in cropped_img:\n",
        "    recognize_img(_img)"
      ],
      "metadata": {
        "colab": {
          "base_uri": "https://localhost:8080/",
          "height": 115
        },
        "id": "FBd_rtxw8Y8t",
        "outputId": "b22a0ebd-e695-4718-eb99-6f2a89412c84"
      },
      "execution_count": 21,
      "outputs": [
        {
          "output_type": "stream",
          "name": "stdout",
          "text": [
            "Result: \t RARAI9999999999999999999\n"
          ]
        },
        {
          "output_type": "display_data",
          "data": {
            "text/plain": [
              "<PIL.Image.Image image mode=RGB size=100x32 at 0x7FC434BE8E10>"
            ],
            "image/png": "[encoded data removed]"
          },
          "metadata": {}
        },
        {
          "output_type": "stream",
          "name": "stdout",
          "text": [
            "Result: \t ISLERER9999999999999999\n"
          ]
        },
        {
          "output_type": "display_data",
          "data": {
            "text/plain": [
              "<PIL.Image.Image image mode=RGB size=100x32 at 0x7FCE98EDC150>"
            ],
            "image/png": "[encoded data removed]"
          },
          "metadata": {}
        }
      ]
    },
    {
      "cell_type": "markdown",
      "source": [
        "## 프로젝트를 마치며\n",
        "\n",
        "OCR을 이용해 모델이 인식한 텍스트 이미지를 실제 테스트로 출력하여 확인해보는 프로젝트를 진행했다. 샘플을 출력해보니 영어가 아닌 문자도 영어로 인식이 되었다. 영어에 대해서만 학습을 진행한 결과이기 때문이다. 배경에 의해 문자가 다른 알파벳으로 인식이 되는 경우도 있었다. 조금 더 훈련을 시키면 충분히 해결할 수 있을 것 같다."
      ],
      "metadata": {
        "id": "0b43g2QlDjWr"
      }
    },
    {
      "cell_type": "code",
      "source": [
        ""
      ],
      "metadata": {
        "id": "ZT0webUP8Y2n"
      },
      "execution_count": null,
      "outputs": []
    }
  ]
}