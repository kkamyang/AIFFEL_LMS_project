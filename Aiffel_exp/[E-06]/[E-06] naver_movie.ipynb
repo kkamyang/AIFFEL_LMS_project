{
 "cells": [
  {
   "cell_type": "markdown",
   "id": "803af759",
   "metadata": {},
   "source": [
    "# [E-06] 영화리뷰 텍스트 감성분석하기\n",
    "\n",
    "이번 프로젝트는 네이버 영화의 댓글을 모아 구성된 데이터셋인 Naver sentiment movie corpus를 활용하여 한국어 텍스트의 감정 분석을 하는 것을 목표로 한다."
   ]
  },
  {
   "cell_type": "markdown",
   "id": "b921d71d",
   "metadata": {},
   "source": [
    "<hr>\n",
    "\n",
    "## 데이터 준비"
   ]
  },
  {
   "cell_type": "code",
   "execution_count": 1,
   "id": "1c2c0d6a",
   "metadata": {},
   "outputs": [],
   "source": [
    "# 라이브러리 불러오기\n",
    "import pandas as pd\n",
    "import numpy as np\n",
    "import tensorflow as tf\n",
    "import os\n",
    "import matplotlib.pyplot as plt\n",
    "from konlpy.tag import Mecab\n",
    "from collections import Counter\n",
    "from tensorflow import keras\n",
    "from tensorflow.keras.preprocessing.sequence import pad_sequences\n",
    "from tensorflow.keras.preprocessing.text import Tokenizer\n",
    "from gensim.models.keyedvectors import Word2VecKeyedVectors\n",
    "from gensim.models import KeyedVectors\n",
    "from tensorflow.keras.initializers import Constant"
   ]
  },
  {
   "cell_type": "code",
   "execution_count": 2,
   "id": "4e7a8947",
   "metadata": {},
   "outputs": [
    {
     "data": {
      "text/html": [
       "<div>\n",
       "<style scoped>\n",
       "    .dataframe tbody tr th:only-of-type {\n",
       "        vertical-align: middle;\n",
       "    }\n",
       "\n",
       "    .dataframe tbody tr th {\n",
       "        vertical-align: top;\n",
       "    }\n",
       "\n",
       "    .dataframe thead th {\n",
       "        text-align: right;\n",
       "    }\n",
       "</style>\n",
       "<table border=\"1\" class=\"dataframe\">\n",
       "  <thead>\n",
       "    <tr style=\"text-align: right;\">\n",
       "      <th></th>\n",
       "      <th>id</th>\n",
       "      <th>document</th>\n",
       "      <th>label</th>\n",
       "    </tr>\n",
       "  </thead>\n",
       "  <tbody>\n",
       "    <tr>\n",
       "      <th>0</th>\n",
       "      <td>9976970</td>\n",
       "      <td>아 더빙.. 진짜 짜증나네요 목소리</td>\n",
       "      <td>0</td>\n",
       "    </tr>\n",
       "    <tr>\n",
       "      <th>1</th>\n",
       "      <td>3819312</td>\n",
       "      <td>흠...포스터보고 초딩영화줄....오버연기조차 가볍지 않구나</td>\n",
       "      <td>1</td>\n",
       "    </tr>\n",
       "    <tr>\n",
       "      <th>2</th>\n",
       "      <td>10265843</td>\n",
       "      <td>너무재밓었다그래서보는것을추천한다</td>\n",
       "      <td>0</td>\n",
       "    </tr>\n",
       "    <tr>\n",
       "      <th>3</th>\n",
       "      <td>9045019</td>\n",
       "      <td>교도소 이야기구먼 ..솔직히 재미는 없다..평점 조정</td>\n",
       "      <td>0</td>\n",
       "    </tr>\n",
       "    <tr>\n",
       "      <th>4</th>\n",
       "      <td>6483659</td>\n",
       "      <td>사이몬페그의 익살스런 연기가 돋보였던 영화!스파이더맨에서 늙어보이기만 했던 커스틴 ...</td>\n",
       "      <td>1</td>\n",
       "    </tr>\n",
       "  </tbody>\n",
       "</table>\n",
       "</div>"
      ],
      "text/plain": [
       "         id                                           document  label\n",
       "0   9976970                                아 더빙.. 진짜 짜증나네요 목소리      0\n",
       "1   3819312                  흠...포스터보고 초딩영화줄....오버연기조차 가볍지 않구나      1\n",
       "2  10265843                                  너무재밓었다그래서보는것을추천한다      0\n",
       "3   9045019                      교도소 이야기구먼 ..솔직히 재미는 없다..평점 조정      0\n",
       "4   6483659  사이몬페그의 익살스런 연기가 돋보였던 영화!스파이더맨에서 늙어보이기만 했던 커스틴 ...      1"
      ]
     },
     "execution_count": 2,
     "metadata": {},
     "output_type": "execute_result"
    }
   ],
   "source": [
    "import pandas as pd\n",
    "\n",
    "# 데이터 살펴보기\n",
    "train_data = pd.read_table('~/aiffel/sentiment_classification/data/ratings_train.txt')\n",
    "test_data = pd.read_table('~/aiffel/sentiment_classification/data/ratings_test.txt')\n",
    "\n",
    "train_data.head()"
   ]
  },
  {
   "cell_type": "markdown",
   "id": "8a802925",
   "metadata": {},
   "source": [
    "<hr>\n",
    "\n",
    "## 데이터로더 구성"
   ]
  },
  {
   "cell_type": "code",
   "execution_count": 3,
   "id": "6342a342",
   "metadata": {},
   "outputs": [
    {
     "name": "stderr",
     "output_type": "stream",
     "text": [
      "/tmp/ipykernel_6908/3384109154.py:6: FutureWarning: The default value of regex will change from True to False in a future version.\n",
      "  train_data['document'] = train_data['document'].str.replace(\"[^ㄱ-ㅎㅏ-ㅣ가-힣 ]\",\"\")  # 한글과 공백만 나오게\n",
      "/tmp/ipykernel_6908/3384109154.py:11: FutureWarning: The default value of regex will change from True to False in a future version.\n",
      "  test_data['document'] = test_data['document'].str.replace(\"[^ㄱ-ㅎㅏ-ㅣ가-힣 ]\",\"\")  # 한글과 공백만 나오게\n"
     ]
    }
   ],
   "source": [
    "tokenizer = Mecab()\n",
    "stopwords = ['의','가','이','은','들','는','좀','잘','걍','과','도','를','으로','자','에','와','한','하다']\n",
    "\n",
    "def load_data(train_data, test_data, num_words=15000):\n",
    "    train_data.drop_duplicates(subset=['document'], inplace=True)  # 중복 제거\n",
    "    train_data['document'] = train_data['document'].str.replace(\"[^ㄱ-ㅎㅏ-ㅣ가-힣 ]\",\"\")  # 한글과 공백만 나오게\n",
    "    train_data['document'].replace('', np.nan, inplace=True)  # 공백은 Null로 대체\n",
    "    train_data = train_data.dropna(how = 'any')  # 결측치 제거\n",
    "    \n",
    "    test_data.drop_duplicates(subset=['document'], inplace=True)  # 중복 제거\n",
    "    test_data['document'] = test_data['document'].str.replace(\"[^ㄱ-ㅎㅏ-ㅣ가-힣 ]\",\"\")  # 한글과 공백만 나오게\n",
    "    test_data['document'].replace('', np.nan, inplace=True)  # 공백은 Null로 대체\n",
    "    test_data = test_data.dropna(how = 'any')  # 결측치 제거\n",
    "    \n",
    "    x_train = []\n",
    "    for sentence in train_data['document']:\n",
    "        temp_X = tokenizer.morphs(sentence) # 토큰화\n",
    "        temp_X = [word for word in temp_X if not word in stopwords] # 불용어 제거\n",
    "        x_train.append(temp_X)\n",
    "\n",
    "    x_test = []\n",
    "    for sentence in test_data['document']:\n",
    "        temp_X = tokenizer.morphs(sentence) # 토큰화\n",
    "        temp_X = [word for word in temp_X if not word in stopwords] # 불용어 제거\n",
    "        x_test.append(temp_X)\n",
    "    \n",
    "    words = np.concatenate(x_train).tolist()\n",
    "    counter = Counter(words)\n",
    "    counter = counter.most_common(15000-4)\n",
    "    vocab = ['<PAD>', '<BOS>', '<UNK>', '<UNUSED>'] + [key for key, _ in counter]\n",
    "    word_to_index = {word:index for index, word in enumerate(vocab)}\n",
    "        \n",
    "    def wordlist_to_indexlist(wordlist):\n",
    "        return [word_to_index[word] if word in word_to_index else word_to_index['<UNK>'] for word in wordlist]\n",
    "        \n",
    "    x_train = list(map(wordlist_to_indexlist, x_train))\n",
    "    x_test = list(map(wordlist_to_indexlist, x_test))\n",
    "        \n",
    "    return x_train, np.array(list(train_data['label'])), x_test, np.array(list(test_data['label'])), word_to_index\n",
    "    \n",
    "x_train, y_train, x_test, y_test, word_to_index = load_data(train_data, test_data) "
   ]
  },
  {
   "cell_type": "code",
   "execution_count": 4,
   "id": "1df62697",
   "metadata": {},
   "outputs": [],
   "source": [
    "index_to_word = {index:word for word, index in word_to_index.items()}"
   ]
  },
  {
   "cell_type": "code",
   "execution_count": 5,
   "id": "21eb3678",
   "metadata": {},
   "outputs": [],
   "source": [
    "# 문장 1개를 활용할 딕셔너리와 함께 주면, 단어 인덱스 리스트 벡터로 변환하는 함수 \n",
    "# 단, 모든 문장은 <BOS>로 시작 \n",
    "def get_encoded_sentence(sentence, word_to_index):\n",
    "    return [word_to_index['<BOS>']]+[word_to_index[word] if word in word_to_index else word_to_index['<UNK>'] for word in sentence.split()]\n",
    "\n",
    "# 여러 개의 문장 리스트를 한꺼번에 단어 인덱스 리스트 벡터로 encode하는 함수\n",
    "def get_encoded_sentences(sentences, word_to_index):\n",
    "    return [get_encoded_sentence(sentence, word_to_index) for sentence in sentences]\n",
    "\n",
    "# 숫자 벡터로 encode된 문장을 원래대로 decode하는 함수\n",
    "def get_decoded_sentence(encoded_sentence, index_to_word):\n",
    "    return ' '.join(index_to_word[index] if index in index_to_word else '<UNK>' for index in encoded_sentence[1:])  #[1:]를 통해 <BOS>를 제외\n",
    "\n",
    "# 여러 개의 숫자 벡터로 encode된 문장을 한꺼번에 원래대로 decode하는 함수\n",
    "def get_decoded_sentences(encoded_sentences, index_to_word):\n",
    "    return [get_decoded_sentence(encoded_sentence, index_to_word) for encoded_sentence in encoded_sentences]"
   ]
  },
  {
   "cell_type": "markdown",
   "id": "9d4350e4",
   "metadata": {},
   "source": [
    "<hr>\n",
    "\n",
    "## 모델 구성을 위한 데이터 분석 및 가공\n",
    "\n",
    "\n",
    "### 데이터셋 내 문장 길이 분포"
   ]
  },
  {
   "cell_type": "code",
   "execution_count": 6,
   "id": "12e2e967",
   "metadata": {},
   "outputs": [
    {
     "name": "stdout",
     "output_type": "stream",
     "text": [
      "문장길이 평균 :  13.757179674103888\n",
      "문장길이 최대 :  83\n",
      "문장길이 표준편차 :  11.462771769216866\n"
     ]
    }
   ],
   "source": [
    "total_data_text = list(x_train) + list(x_test)\n",
    "\n",
    "# 텍스트데이터 문장길이의 리스트 생성\n",
    "num_tokens = [len(tokens) for tokens in total_data_text]\n",
    "num_tokens = np.array(num_tokens)\n",
    "\n",
    "# 문장길이의 평균값, 최대값, 표준편차\n",
    "print('문장길이 평균 : ', np.mean(num_tokens))\n",
    "print('문장길이 최대 : ', np.max(num_tokens))\n",
    "print('문장길이 표준편차 : ', np.std(num_tokens))"
   ]
  },
  {
   "cell_type": "markdown",
   "id": "6cf0fc97",
   "metadata": {},
   "source": [
    "### 적절한 최대 문장 길이 지정"
   ]
  },
  {
   "cell_type": "code",
   "execution_count": 7,
   "id": "78d0cc9e",
   "metadata": {},
   "outputs": [
    {
     "name": "stdout",
     "output_type": "stream",
     "text": [
      "pad_sequences maxlen :  36\n",
      "전체 문장의 93.38145451931864%가 maxlen 설정값 이내에 포함됩니다. \n"
     ]
    }
   ],
   "source": [
    "# 최대 길이를 (평균 + 2*표준편차)로 한다면,  \n",
    "max_tokens = np.mean(num_tokens) + 2 * np.std(num_tokens)\n",
    "maxlen = int(max_tokens)\n",
    "print('pad_sequences maxlen : ', maxlen)\n",
    "print('전체 문장의 {}%가 maxlen 설정값 이내에 포함됩니다. '.format(np.sum(num_tokens < max_tokens) / len(num_tokens) *100))"
   ]
  },
  {
   "cell_type": "markdown",
   "id": "2d4e5e18",
   "metadata": {},
   "source": [
    "### keras.preprocessing.sequence.pad_sequences 을 활용한 패딩 추가"
   ]
  },
  {
   "cell_type": "code",
   "execution_count": 8,
   "id": "35f2f150",
   "metadata": {},
   "outputs": [
    {
     "name": "stdout",
     "output_type": "stream",
     "text": [
      "(145791, 36)\n"
     ]
    }
   ],
   "source": [
    "x_train = tf.keras.preprocessing.sequence.pad_sequences(x_train,\n",
    "                                                        value=word_to_index[\"<PAD>\"],\n",
    "                                                        padding='post', \n",
    "                                                        maxlen=maxlen)\n",
    "\n",
    "x_test = tf.keras.preprocessing.sequence.pad_sequences(x_test,\n",
    "                                                       value=word_to_index[\"<PAD>\"],\n",
    "                                                       padding='post', \n",
    "                                                       maxlen=maxlen)\n",
    "\n",
    "print(x_train.shape)"
   ]
  },
  {
   "cell_type": "markdown",
   "id": "46c714d5",
   "metadata": {},
   "source": [
    "<hr>\n",
    "\n",
    "## validation set 구성"
   ]
  },
  {
   "cell_type": "code",
   "execution_count": 9,
   "id": "f6abdb43",
   "metadata": {},
   "outputs": [
    {
     "name": "stdout",
     "output_type": "stream",
     "text": [
      "(110791, 36)\n",
      "(110791,)\n"
     ]
    }
   ],
   "source": [
    "# validation set 35000건 분리\n",
    "x_val = x_train[:35000]   \n",
    "y_val = y_train[:35000]\n",
    "\n",
    "# train set으로 사용될 나머지\n",
    "partial_x_train = x_train[35000:]  \n",
    "partial_y_train = y_train[35000:]\n",
    "\n",
    "print(partial_x_train.shape)\n",
    "print(partial_y_train.shape)"
   ]
  },
  {
   "cell_type": "markdown",
   "id": "ee8f46ec",
   "metadata": {},
   "source": [
    "<hr>\n",
    "\n",
    "## 모델 구성\n",
    "\n",
    "모델은 RNN, 1-D CNN, GlobalMaxPooling1D()를 활용한 세 가지 모델을 사용할 예정이다.\n",
    "\n",
    "<hr>\n",
    "\n",
    "## 1) RNN 모델 (LSTM)\n",
    "\n",
    "### 모델 설계"
   ]
  },
  {
   "cell_type": "code",
   "execution_count": 10,
   "id": "dce2fd81",
   "metadata": {},
   "outputs": [
    {
     "name": "stdout",
     "output_type": "stream",
     "text": [
      "Model: \"sequential\"\n",
      "_________________________________________________________________\n",
      "Layer (type)                 Output Shape              Param #   \n",
      "=================================================================\n",
      "embedding (Embedding)        (None, None, 200)         3000000   \n",
      "_________________________________________________________________\n",
      "lstm (LSTM)                  (None, 32)                29824     \n",
      "_________________________________________________________________\n",
      "dense (Dense)                (None, 8)                 264       \n",
      "_________________________________________________________________\n",
      "dense_1 (Dense)              (None, 1)                 9         \n",
      "=================================================================\n",
      "Total params: 3,030,097\n",
      "Trainable params: 3,030,097\n",
      "Non-trainable params: 0\n",
      "_________________________________________________________________\n"
     ]
    }
   ],
   "source": [
    "vocab_size = 15000  # 어휘 사전의 크기\n",
    "word_vector_dim = 200  # 단어 하나를 표현하는 임베딩 벡터의 차원수 \n",
    "\n",
    "model = tf.keras.Sequential()\n",
    "model.add(tf.keras.layers.Embedding(vocab_size, word_vector_dim, input_shape=(None,)))\n",
    "model.add(tf.keras.layers.LSTM(32))   # LSTM state 벡터의 차원수\n",
    "model.add(tf.keras.layers.Dense(8, activation='relu'))\n",
    "model.add(tf.keras.layers.Dense(1, activation='sigmoid'))  # 최종 출력은 긍정/부정을 나타내는 1dim\n",
    "\n",
    "model.summary()"
   ]
  },
  {
   "cell_type": "markdown",
   "id": "c9222660",
   "metadata": {},
   "source": [
    "### 모델 학습"
   ]
  },
  {
   "cell_type": "code",
   "execution_count": 11,
   "id": "d09fc573",
   "metadata": {},
   "outputs": [
    {
     "name": "stdout",
     "output_type": "stream",
     "text": [
      "Epoch 1/10\n",
      "217/217 [==============================] - 5s 9ms/step - loss: 0.5253 - accuracy: 0.7328 - val_loss: 0.3719 - val_accuracy: 0.8368\n",
      "Epoch 2/10\n",
      "217/217 [==============================] - 2s 7ms/step - loss: 0.3380 - accuracy: 0.8552 - val_loss: 0.3506 - val_accuracy: 0.8457\n",
      "Epoch 3/10\n",
      "217/217 [==============================] - 2s 7ms/step - loss: 0.2951 - accuracy: 0.8754 - val_loss: 0.3582 - val_accuracy: 0.8455\n",
      "Epoch 4/10\n",
      "217/217 [==============================] - 2s 7ms/step - loss: 0.2595 - accuracy: 0.8897 - val_loss: 0.3724 - val_accuracy: 0.8464\n",
      "Epoch 5/10\n",
      "217/217 [==============================] - 2s 7ms/step - loss: 0.2309 - accuracy: 0.9019 - val_loss: 0.4033 - val_accuracy: 0.8432\n",
      "Epoch 6/10\n",
      "217/217 [==============================] - 2s 7ms/step - loss: 0.2079 - accuracy: 0.9121 - val_loss: 0.4203 - val_accuracy: 0.8412\n",
      "Epoch 7/10\n",
      "217/217 [==============================] - 2s 7ms/step - loss: 0.1896 - accuracy: 0.9195 - val_loss: 0.4433 - val_accuracy: 0.8387\n",
      "Epoch 8/10\n",
      "217/217 [==============================] - 2s 7ms/step - loss: 0.1750 - accuracy: 0.9260 - val_loss: 0.4752 - val_accuracy: 0.8374\n",
      "Epoch 9/10\n",
      "217/217 [==============================] - 2s 7ms/step - loss: 0.1610 - accuracy: 0.9320 - val_loss: 0.5148 - val_accuracy: 0.8384\n",
      "Epoch 10/10\n",
      "217/217 [==============================] - 2s 7ms/step - loss: 0.1473 - accuracy: 0.9377 - val_loss: 0.5343 - val_accuracy: 0.8370\n"
     ]
    }
   ],
   "source": [
    "model.compile(optimizer='adam',\n",
    "              loss='binary_crossentropy',\n",
    "              metrics=['accuracy'])\n",
    "              \n",
    "epochs=10\n",
    "\n",
    "history = model.fit(partial_x_train,\n",
    "                    partial_y_train,\n",
    "                    epochs=epochs,\n",
    "                    batch_size=512,\n",
    "                    validation_data=(x_val, y_val),\n",
    "                    verbose=1)"
   ]
  },
  {
   "cell_type": "markdown",
   "id": "a8d98685",
   "metadata": {},
   "source": [
    "### 모델 평가"
   ]
  },
  {
   "cell_type": "code",
   "execution_count": 12,
   "id": "227747ef",
   "metadata": {},
   "outputs": [
    {
     "name": "stdout",
     "output_type": "stream",
     "text": [
      "1532/1532 - 3s - loss: 0.5346 - accuracy: 0.8332\n",
      "[0.5345679521560669, 0.8332074880599976]\n"
     ]
    }
   ],
   "source": [
    "results = model.evaluate(x_test,  y_test, verbose=2)\n",
    "\n",
    "print(results)"
   ]
  },
  {
   "cell_type": "markdown",
   "id": "fe327908",
   "metadata": {},
   "source": [
    "### Loss, Accuracy 그래프 시각화"
   ]
  },
  {
   "cell_type": "code",
   "execution_count": 13,
   "id": "99bd9b2e",
   "metadata": {},
   "outputs": [
    {
     "name": "stdout",
     "output_type": "stream",
     "text": [
      "dict_keys(['loss', 'accuracy', 'val_loss', 'val_accuracy'])\n"
     ]
    },
    {
     "data": {
      "image/png": "[encoded data removed]",
      "text/plain": [
       "<Figure size 432x288 with 1 Axes>"
      ]
     },
     "metadata": {
      "needs_background": "light"
     },
     "output_type": "display_data"
    }
   ],
   "source": [
    "# loss 시각화\n",
    "history_dict = history.history\n",
    "print(history_dict.keys())\n",
    "\n",
    "acc = history_dict['accuracy']\n",
    "val_acc = history_dict['val_accuracy']\n",
    "loss = history_dict['loss']\n",
    "val_loss = history_dict['val_loss']\n",
    "\n",
    "epochs = range(1, len(acc) + 1)\n",
    "\n",
    "plt.plot(epochs, loss, 'bo', label='Training loss')\n",
    "plt.plot(epochs, val_loss, 'b', label='Validation loss')\n",
    "plt.title('Training and validation loss')\n",
    "plt.xlabel('Epochs')\n",
    "plt.ylabel('Loss')\n",
    "plt.legend()\n",
    "\n",
    "plt.show()"
   ]
  },
  {
   "cell_type": "code",
   "execution_count": 14,
   "id": "64d8b7ac",
   "metadata": {},
   "outputs": [
    {
     "data": {
      "image/png": "[encoded data removed]",
      "text/plain": [
       "<Figure size 432x288 with 1 Axes>"
      ]
     },
     "metadata": {
      "needs_background": "light"
     },
     "output_type": "display_data"
    }
   ],
   "source": [
    "# accuracy 시각화\n",
    "plt.clf()\n",
    "\n",
    "plt.plot(epochs, acc, 'bo', label='Training acc')\n",
    "plt.plot(epochs, val_acc, 'b', label='Validation acc')\n",
    "plt.title('Training and validation accuracy')\n",
    "plt.xlabel('Epochs')\n",
    "plt.ylabel('Accuracy')\n",
    "plt.legend()\n",
    "\n",
    "plt.show()"
   ]
  },
  {
   "cell_type": "markdown",
   "id": "6b046c58",
   "metadata": {},
   "source": [
    "<hr>\n",
    "\n",
    "## 2) 1-D CNN 모델\n",
    "\n",
    "### 모델 설계"
   ]
  },
  {
   "cell_type": "code",
   "execution_count": 15,
   "id": "3eb61d31",
   "metadata": {},
   "outputs": [
    {
     "name": "stdout",
     "output_type": "stream",
     "text": [
      "Model: \"sequential_1\"\n",
      "_________________________________________________________________\n",
      "Layer (type)                 Output Shape              Param #   \n",
      "=================================================================\n",
      "embedding_1 (Embedding)      (None, None, 200)         3000000   \n",
      "_________________________________________________________________\n",
      "conv1d (Conv1D)              (None, None, 16)          19216     \n",
      "_________________________________________________________________\n",
      "max_pooling1d (MaxPooling1D) (None, None, 16)          0         \n",
      "_________________________________________________________________\n",
      "conv1d_1 (Conv1D)            (None, None, 16)          1552      \n",
      "_________________________________________________________________\n",
      "global_max_pooling1d (Global (None, 16)                0         \n",
      "_________________________________________________________________\n",
      "dense_2 (Dense)              (None, 8)                 136       \n",
      "_________________________________________________________________\n",
      "dense_3 (Dense)              (None, 1)                 9         \n",
      "=================================================================\n",
      "Total params: 3,020,913\n",
      "Trainable params: 3,020,913\n",
      "Non-trainable params: 0\n",
      "_________________________________________________________________\n"
     ]
    }
   ],
   "source": [
    "vocab_size = 15000  \n",
    "word_vector_dim = 200\n",
    "\n",
    "model = tf.keras.Sequential()\n",
    "model.add(tf.keras.layers.Embedding(vocab_size, word_vector_dim, input_shape=(None,)))\n",
    "model.add(tf.keras.layers.Conv1D(16, 6, activation='relu'))\n",
    "model.add(tf.keras.layers.MaxPooling1D(5))\n",
    "model.add(tf.keras.layers.Conv1D(16, 6, activation='relu'))\n",
    "model.add(tf.keras.layers.GlobalMaxPooling1D())\n",
    "model.add(tf.keras.layers.Dense(8, activation='relu'))\n",
    "model.add(tf.keras.layers.Dense(1, activation='sigmoid'))  \n",
    "\n",
    "model.summary()"
   ]
  },
  {
   "cell_type": "markdown",
   "id": "d188ba41",
   "metadata": {},
   "source": [
    "### 모델 학습"
   ]
  },
  {
   "cell_type": "code",
   "execution_count": 16,
   "id": "f18f554c",
   "metadata": {},
   "outputs": [
    {
     "name": "stdout",
     "output_type": "stream",
     "text": [
      "Epoch 1/10\n",
      "217/217 [==============================] - 4s 8ms/step - loss: 0.4596 - accuracy: 0.7803 - val_loss: 0.3556 - val_accuracy: 0.8427\n",
      "Epoch 2/10\n",
      "217/217 [==============================] - 1s 6ms/step - loss: 0.3127 - accuracy: 0.8681 - val_loss: 0.3467 - val_accuracy: 0.8503\n",
      "Epoch 3/10\n",
      "217/217 [==============================] - 1s 6ms/step - loss: 0.2485 - accuracy: 0.9013 - val_loss: 0.3674 - val_accuracy: 0.8479\n",
      "Epoch 4/10\n",
      "217/217 [==============================] - 1s 7ms/step - loss: 0.1786 - accuracy: 0.9336 - val_loss: 0.4096 - val_accuracy: 0.8388\n",
      "Epoch 5/10\n",
      "217/217 [==============================] - 1s 7ms/step - loss: 0.1212 - accuracy: 0.9567 - val_loss: 0.4945 - val_accuracy: 0.8356\n",
      "Epoch 6/10\n",
      "217/217 [==============================] - 1s 6ms/step - loss: 0.0823 - accuracy: 0.9722 - val_loss: 0.5611 - val_accuracy: 0.8295\n",
      "Epoch 7/10\n",
      "217/217 [==============================] - 1s 7ms/step - loss: 0.0596 - accuracy: 0.9803 - val_loss: 0.6512 - val_accuracy: 0.8277\n",
      "Epoch 8/10\n",
      "217/217 [==============================] - 1s 6ms/step - loss: 0.0446 - accuracy: 0.9856 - val_loss: 0.7297 - val_accuracy: 0.8281\n",
      "Epoch 9/10\n",
      "217/217 [==============================] - 1s 6ms/step - loss: 0.0358 - accuracy: 0.9880 - val_loss: 0.8221 - val_accuracy: 0.8218\n",
      "Epoch 10/10\n",
      "217/217 [==============================] - 1s 6ms/step - loss: 0.0297 - accuracy: 0.9904 - val_loss: 0.8699 - val_accuracy: 0.8247\n"
     ]
    }
   ],
   "source": [
    "model.compile(optimizer='adam',\n",
    "             loss='binary_crossentropy',\n",
    "             metrics=['accuracy'])\n",
    "            \n",
    "epochs=10\n",
    "\n",
    "history = model.fit(partial_x_train,\n",
    "                   partial_y_train,\n",
    "                   epochs=epochs,\n",
    "                   batch_size=512,\n",
    "                   validation_data=(x_val, y_val),\n",
    "                   verbose=1)"
   ]
  },
  {
   "cell_type": "markdown",
   "id": "aeceb266",
   "metadata": {},
   "source": [
    "### 모델 평가"
   ]
  },
  {
   "cell_type": "code",
   "execution_count": 17,
   "id": "1e232ab9",
   "metadata": {},
   "outputs": [
    {
     "name": "stdout",
     "output_type": "stream",
     "text": [
      "1532/1532 - 3s - loss: 0.8919 - accuracy: 0.8214\n",
      "[0.8919496536254883, 0.8214103579521179]\n"
     ]
    }
   ],
   "source": [
    "results = model.evaluate(x_test,  y_test, verbose=2)\n",
    "\n",
    "print(results)"
   ]
  },
  {
   "cell_type": "markdown",
   "id": "9fa86c8b",
   "metadata": {},
   "source": [
    "### Loss, Accuracy 그래프 시각화"
   ]
  },
  {
   "cell_type": "code",
   "execution_count": 18,
   "id": "29ded462",
   "metadata": {},
   "outputs": [
    {
     "name": "stdout",
     "output_type": "stream",
     "text": [
      "dict_keys(['loss', 'accuracy', 'val_loss', 'val_accuracy'])\n"
     ]
    },
    {
     "data": {
      "image/png": "[encoded data removed]",
      "text/plain": [
       "<Figure size 432x288 with 1 Axes>"
      ]
     },
     "metadata": {
      "needs_background": "light"
     },
     "output_type": "display_data"
    }
   ],
   "source": [
    "# loss 시각화\n",
    "history_dict = history.history\n",
    "print(history_dict.keys())\n",
    "\n",
    "acc = history_dict['accuracy']\n",
    "val_acc = history_dict['val_accuracy']\n",
    "loss = history_dict['loss']\n",
    "val_loss = history_dict['val_loss']\n",
    "\n",
    "epochs = range(1, len(acc) + 1)\n",
    "\n",
    "plt.plot(epochs, loss, 'bo', label='Training loss')\n",
    "plt.plot(epochs, val_loss, 'b', label='Validation loss')\n",
    "plt.title('Training and validation loss')\n",
    "plt.xlabel('Epochs')\n",
    "plt.ylabel('Loss')\n",
    "plt.legend()\n",
    "\n",
    "plt.show()"
   ]
  },
  {
   "cell_type": "code",
   "execution_count": 19,
   "id": "7660ffca",
   "metadata": {},
   "outputs": [
    {
     "data": {
      "image/png": "[encoded data removed]",
      "text/plain": [
       "<Figure size 432x288 with 1 Axes>"
      ]
     },
     "metadata": {
      "needs_background": "light"
     },
     "output_type": "display_data"
    }
   ],
   "source": [
    "# accuracy 시각화\n",
    "plt.clf()\n",
    "\n",
    "plt.plot(epochs, acc, 'bo', label='Training acc')\n",
    "plt.plot(epochs, val_acc, 'b', label='Validation acc')\n",
    "plt.title('Training and validation accuracy')\n",
    "plt.xlabel('Epochs')\n",
    "plt.ylabel('Accuracy')\n",
    "plt.legend()\n",
    "\n",
    "plt.show()"
   ]
  },
  {
   "cell_type": "markdown",
   "id": "96ebfd8e",
   "metadata": {},
   "source": [
    "<hr>\n",
    "\n",
    "## 3) GlobalMaxPooling1D()를 활용한 모델\n",
    "\n",
    "### 모델 설계"
   ]
  },
  {
   "cell_type": "code",
   "execution_count": 20,
   "id": "8d6e1110",
   "metadata": {},
   "outputs": [
    {
     "name": "stdout",
     "output_type": "stream",
     "text": [
      "Model: \"sequential_2\"\n",
      "_________________________________________________________________\n",
      "Layer (type)                 Output Shape              Param #   \n",
      "=================================================================\n",
      "embedding_2 (Embedding)      (None, None, 200)         3000000   \n",
      "_________________________________________________________________\n",
      "global_max_pooling1d_1 (Glob (None, 200)               0         \n",
      "_________________________________________________________________\n",
      "dense_4 (Dense)              (None, 8)                 1608      \n",
      "_________________________________________________________________\n",
      "dense_5 (Dense)              (None, 1)                 9         \n",
      "=================================================================\n",
      "Total params: 3,001,617\n",
      "Trainable params: 3,001,617\n",
      "Non-trainable params: 0\n",
      "_________________________________________________________________\n"
     ]
    }
   ],
   "source": [
    "vocab_size = 15000\n",
    "word_vector_dim = 200   \n",
    "\n",
    "model = tf.keras.Sequential()\n",
    "model.add(tf.keras.layers.Embedding(vocab_size, word_vector_dim, input_shape=(None,)))\n",
    "model.add(tf.keras.layers.GlobalMaxPooling1D())\n",
    "model.add(tf.keras.layers.Dense(8, activation='relu'))\n",
    "model.add(tf.keras.layers.Dense(1, activation='sigmoid'))  \n",
    "\n",
    "model.summary()"
   ]
  },
  {
   "cell_type": "code",
   "execution_count": 21,
   "id": "6267f8ea",
   "metadata": {},
   "outputs": [
    {
     "name": "stdout",
     "output_type": "stream",
     "text": [
      "Epoch 1/10\n",
      "217/217 [==============================] - 2s 5ms/step - loss: 0.4823 - accuracy: 0.7980 - val_loss: 0.3569 - val_accuracy: 0.8425\n",
      "Epoch 2/10\n",
      "217/217 [==============================] - 1s 5ms/step - loss: 0.3187 - accuracy: 0.8646 - val_loss: 0.3444 - val_accuracy: 0.8501\n",
      "Epoch 3/10\n",
      "217/217 [==============================] - 1s 5ms/step - loss: 0.2625 - accuracy: 0.8938 - val_loss: 0.3497 - val_accuracy: 0.8517\n",
      "Epoch 4/10\n",
      "217/217 [==============================] - 1s 5ms/step - loss: 0.2140 - accuracy: 0.9178 - val_loss: 0.3699 - val_accuracy: 0.8483\n",
      "Epoch 5/10\n",
      "217/217 [==============================] - 1s 5ms/step - loss: 0.1668 - accuracy: 0.9403 - val_loss: 0.3999 - val_accuracy: 0.8463\n",
      "Epoch 6/10\n",
      "217/217 [==============================] - 1s 5ms/step - loss: 0.1235 - accuracy: 0.9597 - val_loss: 0.4401 - val_accuracy: 0.8431\n",
      "Epoch 7/10\n",
      "217/217 [==============================] - 1s 5ms/step - loss: 0.0878 - accuracy: 0.9749 - val_loss: 0.4845 - val_accuracy: 0.8399\n",
      "Epoch 8/10\n",
      "217/217 [==============================] - 1s 5ms/step - loss: 0.0616 - accuracy: 0.9837 - val_loss: 0.5269 - val_accuracy: 0.8369\n",
      "Epoch 9/10\n",
      "217/217 [==============================] - 1s 5ms/step - loss: 0.0433 - accuracy: 0.9895 - val_loss: 0.5687 - val_accuracy: 0.8369\n",
      "Epoch 10/10\n",
      "217/217 [==============================] - 1s 5ms/step - loss: 0.0318 - accuracy: 0.9922 - val_loss: 0.6070 - val_accuracy: 0.8368\n"
     ]
    }
   ],
   "source": [
    "model.compile(optimizer='adam',\n",
    "              loss='binary_crossentropy',\n",
    "              metrics=['accuracy'])\n",
    "              \n",
    "epochs=10\n",
    "\n",
    "history = model.fit(partial_x_train,\n",
    "                    partial_y_train,\n",
    "                    epochs=epochs,\n",
    "                    batch_size=512,\n",
    "                    validation_data=(x_val, y_val),\n",
    "                    verbose=1)"
   ]
  },
  {
   "cell_type": "code",
   "execution_count": 22,
   "id": "3c31b47d",
   "metadata": {},
   "outputs": [
    {
     "name": "stdout",
     "output_type": "stream",
     "text": [
      "1532/1532 - 2s - loss: 0.6259 - accuracy: 0.8312\n",
      "[0.6259263753890991, 0.8311664462089539]\n"
     ]
    }
   ],
   "source": [
    "results = model.evaluate(x_test,  y_test, verbose=2)\n",
    "\n",
    "print(results)"
   ]
  },
  {
   "cell_type": "code",
   "execution_count": 23,
   "id": "ca82f5e0",
   "metadata": {},
   "outputs": [
    {
     "name": "stdout",
     "output_type": "stream",
     "text": [
      "dict_keys(['loss', 'accuracy', 'val_loss', 'val_accuracy'])\n"
     ]
    },
    {
     "data": {
      "image/png": "[encoded data removed]",
      "text/plain": [
       "<Figure size 432x288 with 1 Axes>"
      ]
     },
     "metadata": {
      "needs_background": "light"
     },
     "output_type": "display_data"
    }
   ],
   "source": [
    "# loss 시각화\n",
    "history_dict = history.history\n",
    "print(history_dict.keys())\n",
    "\n",
    "acc = history_dict['accuracy']\n",
    "val_acc = history_dict['val_accuracy']\n",
    "loss = history_dict['loss']\n",
    "val_loss = history_dict['val_loss']\n",
    "\n",
    "epochs = range(1, len(acc) + 1)\n",
    "\n",
    "plt.plot(epochs, loss, 'bo', label='Training loss')\n",
    "plt.plot(epochs, val_loss, 'b', label='Validation loss')\n",
    "plt.title('Training and validation loss')\n",
    "plt.xlabel('Epochs')\n",
    "plt.ylabel('Loss')\n",
    "plt.legend()\n",
    "\n",
    "plt.show()"
   ]
  },
  {
   "cell_type": "code",
   "execution_count": 24,
   "id": "54e4b6e5",
   "metadata": {},
   "outputs": [
    {
     "data": {
      "image/png": "[encoded data removed]",
      "text/plain": [
       "<Figure size 432x288 with 1 Axes>"
      ]
     },
     "metadata": {
      "needs_background": "light"
     },
     "output_type": "display_data"
    }
   ],
   "source": [
    "plt.clf()  \n",
    "\n",
    "plt.plot(epochs, acc, 'bo', label='Training acc')\n",
    "plt.plot(epochs, val_acc, 'b', label='Validation acc')\n",
    "plt.title('Training and validation accuracy')\n",
    "plt.xlabel('Epochs')\n",
    "plt.ylabel('Accuracy')\n",
    "plt.legend()\n",
    "\n",
    "plt.show()"
   ]
  },
  {
   "cell_type": "markdown",
   "id": "1913c0f3",
   "metadata": {},
   "source": [
    "<hr>\n",
    "\n",
    "## 학습된 Embedding 레이어 분석"
   ]
  },
  {
   "cell_type": "code",
   "execution_count": 25,
   "id": "ba6c47fc",
   "metadata": {},
   "outputs": [
    {
     "name": "stdout",
     "output_type": "stream",
     "text": [
      "(15000, 200)\n"
     ]
    }
   ],
   "source": [
    "embedding_layer = model.layers[0]\n",
    "weights = embedding_layer.get_weights()[0]\n",
    "print(weights.shape)"
   ]
  },
  {
   "cell_type": "code",
   "execution_count": 26,
   "id": "66b3597e",
   "metadata": {},
   "outputs": [],
   "source": [
    "# 학습한 Embedding 파라미터를 파일에 써서 저장\n",
    "word2vec_file_path = os.getenv('HOME')+'/aiffel/sentiment_classification/data/word2vec.txt'\n",
    "f = open(word2vec_file_path, 'w')\n",
    "f.write('{} {}\\n'.format(vocab_size-4, word_vector_dim))  # 몇개의 벡터를 얼마 사이즈로 기재할지\n",
    "\n",
    "# 단어 개수 만큼의 워드 벡터를 파일에 기록 \n",
    "vectors = model.get_weights()[0]\n",
    "for i in range(4,vocab_size):\n",
    "    f.write('{} {}\\n'.format(index_to_word[i], ' '.join(map(str, list(vectors[i, :])))))\n",
    "f.close()"
   ]
  },
  {
   "cell_type": "code",
   "execution_count": 27,
   "id": "5f52d91b",
   "metadata": {},
   "outputs": [
    {
     "data": {
      "text/plain": [
       "[('정말', 0.5148522257804871),\n",
       " ('영화', 0.4831978678703308),\n",
       " ('는데', 0.44467973709106445),\n",
       " ('에서', 0.44009929895401),\n",
       " ('내내', 0.4360922574996948),\n",
       " ('기억', 0.4360300302505493),\n",
       " ('즐거운', 0.4321631193161011),\n",
       " ('언제나', 0.4305128753185272),\n",
       " ('고', 0.4297395944595337),\n",
       " ('네요', 0.42896953225135803)]"
      ]
     },
     "execution_count": 27,
     "metadata": {},
     "output_type": "execute_result"
    }
   ],
   "source": [
    "word_vectors = Word2VecKeyedVectors.load_word2vec_format(word2vec_file_path, binary=False)\n",
    "\n",
    "word_vectors.similar_by_word(\"감동\")"
   ]
  },
  {
   "cell_type": "markdown",
   "id": "730a2158",
   "metadata": {},
   "source": [
    "감동이라는 단어와 유사한 단어와 유사도를 확인해보았다. 유사도가 높은 단어들이 많지 않았고 직접 확인해 본 결과 이들이 유사한 단어라고도 할 수 없었다."
   ]
  },
  {
   "cell_type": "markdown",
   "id": "32ae490b",
   "metadata": {},
   "source": [
    "<hr>\n",
    "\n",
    "## 한국어 Word2Vec 임베딩 활용하여 성능 개선"
   ]
  },
  {
   "cell_type": "code",
   "execution_count": 28,
   "id": "5bebe8bc",
   "metadata": {},
   "outputs": [
    {
     "name": "stderr",
     "output_type": "stream",
     "text": [
      "/tmp/ipykernel_6908/1081681440.py:7: DeprecationWarning: Call to deprecated `__getitem__` (Method will be removed in 4.0.0, use self.wv.__getitem__() instead).\n",
      "  vector = word2vec['감동']\n",
      "/tmp/ipykernel_6908/1081681440.py:9: DeprecationWarning: Call to deprecated `similar_by_word` (Method will be removed in 4.0.0, use self.wv.similar_by_word() instead).\n",
      "  word2vec.similar_by_word(\"감동\")\n"
     ]
    },
    {
     "data": {
      "text/plain": [
       "[('감명', 0.7177015542984009),\n",
       " ('감격', 0.6908231973648071),\n",
       " ('실망', 0.6267645359039307),\n",
       " ('감화', 0.6191877126693726),\n",
       " ('감탄', 0.6140128374099731),\n",
       " ('칭찬', 0.6059398055076599),\n",
       " ('존경', 0.6032299995422363),\n",
       " ('자극', 0.594598650932312),\n",
       " ('감복', 0.5902734994888306),\n",
       " ('호응', 0.5850393772125244)]"
      ]
     },
     "execution_count": 28,
     "metadata": {},
     "output_type": "execute_result"
    }
   ],
   "source": [
    "import gensim\n",
    "from gensim.models import KeyedVectors\n",
    "\n",
    "word2vec_path = os.getenv('HOME')+'/aiffel/sentiment_classification/data/ko.bin'\n",
    "word2vec = gensim.models.Word2Vec.load(word2vec_path)\n",
    "\n",
    "vector = word2vec['감동']\n",
    "\n",
    "word2vec.similar_by_word(\"감동\")"
   ]
  },
  {
   "cell_type": "markdown",
   "id": "3ce0fcf3",
   "metadata": {},
   "source": [
    "이전과 동일한 단어인 '감동'과 유사한 단어와 유사도를 확인해본 결과 확실히 개선된 것으로 보인다."
   ]
  },
  {
   "cell_type": "code",
   "execution_count": 29,
   "id": "97034cf6",
   "metadata": {},
   "outputs": [
    {
     "name": "stderr",
     "output_type": "stream",
     "text": [
      "/tmp/ipykernel_6908/2381438500.py:9: DeprecationWarning: Call to deprecated `__contains__` (Method will be removed in 4.0.0, use self.wv.__contains__() instead).\n",
      "  if index_to_word[i] in word2vec:\n",
      "/tmp/ipykernel_6908/2381438500.py:10: DeprecationWarning: Call to deprecated `__getitem__` (Method will be removed in 4.0.0, use self.wv.__getitem__() instead).\n",
      "  embedding_matrix[i] = word2vec[index_to_word[i]]\n"
     ]
    },
    {
     "name": "stdout",
     "output_type": "stream",
     "text": [
      "Model: \"sequential_3\"\n",
      "_________________________________________________________________\n",
      "Layer (type)                 Output Shape              Param #   \n",
      "=================================================================\n",
      "embedding_3 (Embedding)      (None, 36, 200)           3000000   \n",
      "_________________________________________________________________\n",
      "lstm_1 (LSTM)                (None, 256)               467968    \n",
      "_________________________________________________________________\n",
      "dropout (Dropout)            (None, 256)               0         \n",
      "_________________________________________________________________\n",
      "dense_6 (Dense)              (None, 1)                 257       \n",
      "=================================================================\n",
      "Total params: 3,468,225\n",
      "Trainable params: 3,468,225\n",
      "Non-trainable params: 0\n",
      "_________________________________________________________________\n"
     ]
    }
   ],
   "source": [
    "from tensorflow.keras.layers import Dropout\n",
    "\n",
    "vocab_size = 15000    # 어휘 사전의 크기입니다(15,000개의 단어)\n",
    "word_vector_dim = 200  # 워드 벡터의 차원수\n",
    "embedding_matrix = np.random.rand(vocab_size, word_vector_dim)\n",
    "\n",
    "# embedding_matrix에 Word2Vec 워드 벡터를 단어 하나씩 copy\n",
    "for i in range(4,vocab_size):\n",
    "    if index_to_word[i] in word2vec:\n",
    "        embedding_matrix[i] = word2vec[index_to_word[i]]\n",
    "        \n",
    "# 모델 구성\n",
    "model = tf.keras.Sequential()\n",
    "model.add(tf.keras.layers.Embedding(vocab_size, \n",
    "                                 word_vector_dim, \n",
    "                                 embeddings_initializer=Constant(embedding_matrix),  # 카피한 임베딩을 여기서 활용\n",
    "                                 input_length=maxlen, \n",
    "                                 trainable=True))   # trainable을 True로 주면 Fine-tuning\n",
    "model.add(tf.keras.layers.LSTM(256))\n",
    "model.add(Dropout(0.5))\n",
    "model.add(tf.keras.layers.Dense(1, activation='sigmoid')) \n",
    "\n",
    "model.summary()"
   ]
  },
  {
   "cell_type": "code",
   "execution_count": 30,
   "id": "d38295f4",
   "metadata": {},
   "outputs": [
    {
     "name": "stdout",
     "output_type": "stream",
     "text": [
      "Epoch 1/5\n",
      "3463/3463 [==============================] - 24s 7ms/step - loss: 0.4385 - accuracy: 0.7822 - val_loss: 0.3352 - val_accuracy: 0.8507\n",
      "Epoch 2/5\n",
      "3463/3463 [==============================] - 22s 6ms/step - loss: 0.3065 - accuracy: 0.8698 - val_loss: 0.3225 - val_accuracy: 0.8590\n",
      "Epoch 3/5\n",
      "3463/3463 [==============================] - 22s 6ms/step - loss: 0.2552 - accuracy: 0.8948 - val_loss: 0.3327 - val_accuracy: 0.8577\n",
      "Epoch 4/5\n",
      "3463/3463 [==============================] - 22s 6ms/step - loss: 0.2100 - accuracy: 0.9163 - val_loss: 0.3628 - val_accuracy: 0.8542\n",
      "Epoch 5/5\n",
      "3463/3463 [==============================] - 22s 6ms/step - loss: 0.1693 - accuracy: 0.9340 - val_loss: 0.4200 - val_accuracy: 0.8528\n"
     ]
    }
   ],
   "source": [
    "model.compile(optimizer='adam',\n",
    "              loss='binary_crossentropy',\n",
    "              metrics=['accuracy'])\n",
    "              \n",
    "epochs=5\n",
    "\n",
    "history = model.fit(partial_x_train,\n",
    "                    partial_y_train,\n",
    "                    epochs=epochs,\n",
    "                    batch_size=32,\n",
    "                    validation_data=(x_val, y_val),\n",
    "                    verbose=1)"
   ]
  },
  {
   "cell_type": "code",
   "execution_count": 31,
   "id": "8ad151e4",
   "metadata": {},
   "outputs": [
    {
     "name": "stdout",
     "output_type": "stream",
     "text": [
      "1532/1532 - 3s - loss: 0.4208 - accuracy: 0.8510\n",
      "[0.4208180904388428, 0.8509848117828369]\n"
     ]
    }
   ],
   "source": [
    "results = model.evaluate(x_test,  y_test, verbose=2)\n",
    "\n",
    "print(results)"
   ]
  },
  {
   "cell_type": "code",
   "execution_count": 32,
   "id": "b0920086",
   "metadata": {},
   "outputs": [
    {
     "name": "stdout",
     "output_type": "stream",
     "text": [
      "dict_keys(['loss', 'accuracy', 'val_loss', 'val_accuracy'])\n"
     ]
    },
    {
     "data": {
      "image/png": "[encoded data removed]",
      "text/plain": [
       "<Figure size 432x288 with 1 Axes>"
      ]
     },
     "metadata": {
      "needs_background": "light"
     },
     "output_type": "display_data"
    }
   ],
   "source": [
    "# loss 시각화\n",
    "history_dict = history.history\n",
    "print(history_dict.keys())\n",
    "\n",
    "acc = history_dict['accuracy']\n",
    "val_acc = history_dict['val_accuracy']\n",
    "loss = history_dict['loss']\n",
    "val_loss = history_dict['val_loss']\n",
    "\n",
    "epochs = range(1, len(acc) + 1)\n",
    "\n",
    "plt.plot(epochs, loss, 'bo', label='Training loss')\n",
    "plt.plot(epochs, val_loss, 'b', label='Validation loss')\n",
    "plt.title('Training and validation loss')\n",
    "plt.xlabel('Epochs')\n",
    "plt.ylabel('Loss')\n",
    "plt.legend()\n",
    "\n",
    "plt.show()"
   ]
  },
  {
   "cell_type": "code",
   "execution_count": 33,
   "id": "19ebe8e8",
   "metadata": {},
   "outputs": [
    {
     "data": {
      "image/png": "[encoded data removed]",
      "text/plain": [
       "<Figure size 432x288 with 1 Axes>"
      ]
     },
     "metadata": {
      "needs_background": "light"
     },
     "output_type": "display_data"
    }
   ],
   "source": [
    "plt.clf()  \n",
    "\n",
    "plt.plot(epochs, acc, 'bo', label='Training acc')\n",
    "plt.plot(epochs, val_acc, 'b', label='Validation acc')\n",
    "plt.title('Training and validation accuracy')\n",
    "plt.xlabel('Epochs')\n",
    "plt.ylabel('Accuracy')\n",
    "plt.legend()\n",
    "\n",
    "plt.show()"
   ]
  },
  {
   "cell_type": "markdown",
   "id": "6a8be9e6",
   "metadata": {},
   "source": [
    "<hr>\n",
    "\n",
    "## <프로젝트 회고>\n",
    "\n",
    "이번 프로젝트는 기존에 진행했었던 NLP와는 다르게 한글 텍스트를 활용한 작업이었다는 것이 새롭게 느껴졌다. 물론 한국어의 특성상 데이터로더를 구성하는 과정이 영어보다는 조금 번거로웠다. 한 단어가 여러 의미를 포함하기도 하고 하나의 의미를 다양한 단어로 표현이 가능하기 때문에 한국어 텍스트를 다루는 NLP가 영어보다는 더 어려운 것 같다. 다행히 사전학습된 한국어 임베딩을 활용하여 모델의 성능을 높일 수 있었다. Google에서 제공하는 Word2Vec를 활용하였고 처음 적용시켰을 때에는 '감동'이라는 단어와 유사도가 높은 단어들을 확인한 결과 그리 높지 않은 단어들이 출력되었고 '정말', '영화', '는데' 등 유사성이 전혀 없는 단어들이었다. 그 다음은 한국어 임베딩을 적용시켰다. 확실히 유사도가 높은 단어들이 출력되었고 '감격', '감명', '실망' 등의 유사하다고 볼 수 있는 단어들이었다.\n",
    "\n",
    "이번 프로젝트에서 힘들었던 점은 중간에 발생했던 다양한 오류들이었다. 파일을 불러오는 과정, 한국어 임베딩을 하는 과정, 모델을 학습시키는 과정 등에서 오류가 발생하였고 이를 해결하기 위해 구글링을 하면서 많은 시간을 낭비했던 것 같다. 이번에 발생했던 오류들은 블로그 등을 통해 정리하여 다음에 또 다시 발생했을 때 시간을 절약할 수 있도록 하려고 한다. \n",
    "\n",
    "두 번째로 힘들었던 점은 정확도였다. 이번 프로젝트에서 목표로 하는 정확도는 85%이상이었지만 약간의 부족함으로 계속해서 넘지를 못했다. 또한 loss와 accuracy를 시각화한 그래프를 살펴보면 다른 프로젝트 때와는 다르게 에포크가 낮은 시점부터 Training과 validation의 그래프에 이격이 발생했다. 나는 overfitting이 원인이었다고 생각했고 모델의 복잡도를 최소화하기 위해 레이어를 줄이고 DML시간에 배운 dropout을 사용해보았다. 한국어 임베딩을 사용하고  초반에는 83% 정도의 정확도가 나왔고 레이어를 최소화하고 하이퍼 파라미터를 수정한 결과 84%이상의 정확도를 보였다. 하지만 아무리 수정을 해도 85%를 넘지 못했고 마지막으로 사전의 크기를 10,000개에서 15,000개로 수정해주었다. 결과적으로는 85.1%가 나왔다. \n",
    "\n",
    "목표로 하는 정확도에 도달하기는 했지만 이 것이 올바른 방법이었는지는 잘 모르겠다. 교육을 통해 이론으로는 과적합을 해결하는 방법들을 배웠었지만 이것을 실제 모델에 적용시키는 과정이 쉽지만은 않았다. 또한 여러 오류들을 마주하면서 해결하기 위해 찾아보는 과정에서 정말 많은 것을 배웠다. 점점 프로젝트가 어려워지고 있는 것을 느끼지만 그만큼 많이 배우면서 성장하고 있는 것 같다.  "
   ]
  }
 ],
 "metadata": {
  "kernelspec": {
   "display_name": "Python 3 (ipykernel)",
   "language": "python",
   "name": "python3"
  },
  "language_info": {
   "codemirror_mode": {
    "name": "ipython",
    "version": 3
   },
   "file_extension": ".py",
   "mimetype": "text/x-python",
   "name": "python",
   "nbconvert_exporter": "python",
   "pygments_lexer": "ipython3",
   "version": "3.9.7"
  }
 },
 "nbformat": 4,
 "nbformat_minor": 5
}
