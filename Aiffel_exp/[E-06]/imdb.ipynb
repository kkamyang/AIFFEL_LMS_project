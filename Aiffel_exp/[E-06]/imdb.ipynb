{
 "cells": [
  {
   "cell_type": "code",
   "execution_count": 1,
   "id": "a870a0ce",
   "metadata": {},
   "outputs": [
    {
     "name": "stdout",
     "output_type": "stream",
     "text": [
      "훈련 샘플 개수: 25000, 테스트 개수: 25000\n"
     ]
    }
   ],
   "source": [
    "import numpy as np\n",
    "import tensorflow as tf\n",
    "import os\n",
    "\n",
    "# IMDb 데이터셋 다운로드\n",
    "\n",
    "imdb = tf.keras.datasets.imdb\n",
    "\n",
    "(x_train, y_train), (x_test, y_test) = imdb.load_data(num_words=10000)\n",
    "print(\"훈련 샘플 개수: {}, 테스트 개수: {}\".format(len(x_train), len(x_test)))"
   ]
  },
  {
   "cell_type": "markdown",
   "id": "d8a502ca",
   "metadata": {},
   "source": [
    "50000개의 리뷰 중 절반인 25000개가 훈련용 데이터, 나머지 25000개를 테스트용 데이터로 사용하도록 지정되어 있다. \n",
    "\n",
    "imdb.load_data() 호출 시 단어사전에 등재할 단어의 개수(num_words)를 10000으로 지정하면, 그 개수만큼의 word_to_index 딕셔너리까지 생성된 형태로 데이터셋이 생성된다."
   ]
  },
  {
   "cell_type": "code",
   "execution_count": 2,
   "id": "501e4e49",
   "metadata": {},
   "outputs": [
    {
     "name": "stdout",
     "output_type": "stream",
     "text": [
      "[1, 14, 22, 16, 43, 530, 973, 1622, 1385, 65, 458, 4468, 66, 3941, 4, 173, 36, 256, 5, 25, 100, 43, 838, 112, 50, 670, 2, 9, 35, 480, 284, 5, 150, 4, 172, 112, 167, 2, 336, 385, 39, 4, 172, 4536, 1111, 17, 546, 38, 13, 447, 4, 192, 50, 16, 6, 147, 2025, 19, 14, 22, 4, 1920, 4613, 469, 4, 22, 71, 87, 12, 16, 43, 530, 38, 76, 15, 13, 1247, 4, 22, 17, 515, 17, 12, 16, 626, 18, 2, 5, 62, 386, 12, 8, 316, 8, 106, 5, 4, 2223, 5244, 16, 480, 66, 3785, 33, 4, 130, 12, 16, 38, 619, 5, 25, 124, 51, 36, 135, 48, 25, 1415, 33, 6, 22, 12, 215, 28, 77, 52, 5, 14, 407, 16, 82, 2, 8, 4, 107, 117, 5952, 15, 256, 4, 2, 7, 3766, 5, 723, 36, 71, 43, 530, 476, 26, 400, 317, 46, 7, 4, 2, 1029, 13, 104, 88, 4, 381, 15, 297, 98, 32, 2071, 56, 26, 141, 6, 194, 7486, 18, 4, 226, 22, 21, 134, 476, 26, 480, 5, 144, 30, 5535, 18, 51, 36, 28, 224, 92, 25, 104, 4, 226, 65, 16, 38, 1334, 88, 12, 16, 283, 5, 16, 4472, 113, 103, 32, 15, 16, 5345, 19, 178, 32]\n",
      "라벨:  1\n",
      "1번째 리뷰 문장 길이:  218\n",
      "2번째 리뷰 문장 길이:  189\n"
     ]
    }
   ],
   "source": [
    "print(x_train[0])  # 1번째 리뷰데이터\n",
    "print('라벨: ', y_train[0])  # 1번째 리뷰데이터의 라벨\n",
    "print('1번째 리뷰 문장 길이: ', len(x_train[0]))\n",
    "print('2번째 리뷰 문장 길이: ', len(x_train[1]))"
   ]
  },
  {
   "cell_type": "markdown",
   "id": "7679a01d",
   "metadata": {},
   "source": [
    "텍스트 데이터가 아니라 이미 숫자로 encode된 텍스트 데이터를 다운로드했음을 확인할 수 있다."
   ]
  },
  {
   "cell_type": "code",
   "execution_count": 3,
   "id": "8d0b8b61",
   "metadata": {},
   "outputs": [
    {
     "name": "stdout",
     "output_type": "stream",
     "text": [
      "the\n",
      "1\n"
     ]
    }
   ],
   "source": [
    "word_to_index = imdb.get_word_index()\n",
    "index_to_word = {index:word for word, index in word_to_index.items()}\n",
    "print(index_to_word[1])     # 'the' 가 출력됩니다. \n",
    "print(word_to_index['the'])  # 1 이 출력됩니다."
   ]
  },
  {
   "cell_type": "code",
   "execution_count": 4,
   "id": "2e797db7",
   "metadata": {},
   "outputs": [
    {
     "name": "stdout",
     "output_type": "stream",
     "text": [
      "<BOS>\n",
      "4\n",
      "the\n"
     ]
    }
   ],
   "source": [
    "#실제 인코딩 인덱스는 제공된 word_to_index에서 index 기준으로 3씩 뒤로 밀려 있습니다.  \n",
    "word_to_index = {k:(v+3) for k,v in word_to_index.items()}\n",
    "\n",
    "# 처음 몇 개 인덱스는 사전에 정의되어 있습니다\n",
    "word_to_index[\"<PAD>\"] = 0\n",
    "word_to_index[\"<BOS>\"] = 1\n",
    "word_to_index[\"<UNK>\"] = 2  # unknown\n",
    "word_to_index[\"<UNUSED>\"] = 3\n",
    "\n",
    "index_to_word = {index:word for word, index in word_to_index.items()}\n",
    "\n",
    "print(index_to_word[1])     # '<BOS>' 가 출력됩니다. \n",
    "print(word_to_index['the'])  # 4 이 출력됩니다. \n",
    "print(index_to_word[4])     # 'the' 가 출력됩니다."
   ]
  },
  {
   "cell_type": "code",
   "execution_count": 5,
   "id": "ad0ed540",
   "metadata": {},
   "outputs": [
    {
     "name": "stdout",
     "output_type": "stream",
     "text": [
      "[1, 13, 1900, 6803]\n"
     ]
    }
   ],
   "source": [
    "# 문장 1개를 활용할 딕셔너리와 함께 주면, 단어 인덱스 리스트로 변환해 주는 함수를 만들어 봅시다.\n",
    "# 단, 모든 문장은 <BOS>로 시작하는 것으로 합니다. \n",
    "def get_encoded_sentence(sentence, word_to_index):\n",
    "    return [word_to_index['<BOS>']]+[word_to_index[word] if word in word_to_index else word_to_index['<UNK>'] for word in sentence.split()]\n",
    "\n",
    "print(get_encoded_sentence('i eat lunch', word_to_index))"
   ]
  },
  {
   "cell_type": "code",
   "execution_count": 6,
   "id": "9c53a453",
   "metadata": {
    "scrolled": true
   },
   "outputs": [],
   "source": [
    "# # 여러 개의 문장 리스트를 한꺼번에 숫자 텐서로 encode해 주는 함수입니다. \n",
    "# def get_encoded_sentences(sentences, word_to_index):\n",
    "#     return [get_encoded_sentence(sentence, word_to_index) for sentence in sentences]\n",
    "\n",
    "# # sentences=['i feel hungry', 'i eat lunch', 'now i feel happy'] 가 아래와 같이 변환됩니다. \n",
    "# encoded_sentences = get_encoded_sentences(sentences, word_to_index)\n",
    "# print(encoded_sentences)"
   ]
  },
  {
   "cell_type": "code",
   "execution_count": 7,
   "id": "bd93bedf",
   "metadata": {},
   "outputs": [
    {
     "name": "stdout",
     "output_type": "stream",
     "text": [
      "<UNUSED> the and\n"
     ]
    }
   ],
   "source": [
    "# 숫자 벡터로 encode된 문장을 원래대로 decode하는 함수입니다. \n",
    "def get_decoded_sentence(encoded_sentence, index_to_word):\n",
    "    return ' '.join(index_to_word[index] if index in index_to_word else '<UNK>' for index in encoded_sentence[1:])  #[1:]를 통해 <BOS>를 제외\n",
    "\n",
    "print(get_decoded_sentence([1, 3, 4, 5], index_to_word))"
   ]
  },
  {
   "cell_type": "code",
   "execution_count": 8,
   "id": "1b80502e",
   "metadata": {},
   "outputs": [],
   "source": [
    "# # 여러 개의 숫자 벡터로 encode된 문장을 한꺼번에 원래대로 decode하는 함수입니다. \n",
    "# def get_decoded_sentences(encoded_sentences, index_to_word):\n",
    "#     return [get_decoded_sentence(encoded_sentence, index_to_word) for encoded_sentence in encoded_sentences]\n",
    "\n",
    "# # encoded_sentences=[[1, 3, 4, 5], [1, 3, 6, 7], [1, 8, 3, 4, 9]] 가 아래와 같이 변환됩니다.\n",
    "# print(get_decoded_sentences(encoded_sentences, index_to_word))"
   ]
  },
  {
   "cell_type": "code",
   "execution_count": 9,
   "id": "ccc633bb",
   "metadata": {},
   "outputs": [
    {
     "name": "stdout",
     "output_type": "stream",
     "text": [
      "this film was just brilliant casting location scenery story direction everyone's really suited the part they played and you could just imagine being there robert <UNK> is an amazing actor and now the same being director <UNK> father came from the same scottish island as myself so i loved the fact there was a real connection with this film the witty remarks throughout the film were great it was just brilliant so much that i bought the film as soon as it was released for <UNK> and would recommend it to everyone to watch and the fly fishing was amazing really cried at the end it was so sad and you know what they say if you cry at a film it must have been good and this definitely was also <UNK> to the two little boy's that played the <UNK> of norman and paul they were just brilliant children are often left out of the <UNK> list i think because the stars that play them all grown up are such a big profile for the whole film but these children are amazing and should be praised for what they have done don't you think the whole story was so lovely because it was true and was someone's life after all that was shared with us all\n",
      "라벨:  1\n"
     ]
    }
   ],
   "source": [
    "print(get_decoded_sentence(x_train[0], index_to_word))\n",
    "print('라벨: ', y_train[0])  # 1번째 리뷰데이터의 라벨"
   ]
  },
  {
   "cell_type": "code",
   "execution_count": 10,
   "id": "84fa9587",
   "metadata": {},
   "outputs": [
    {
     "name": "stdout",
     "output_type": "stream",
     "text": [
      "문장길이 평균 :  234.75892\n",
      "문장길이 최대 :  2494\n",
      "문장길이 표준편차 :  172.91149458735703\n",
      "pad_sequences maxlen :  580\n",
      "전체 문장의 0.94536%가 maxlen 설정값 이내에 포함됩니다. \n"
     ]
    }
   ],
   "source": [
    "total_data_text = list(x_train) + list(x_test)\n",
    "# 텍스트데이터 문장길이의 리스트를 생성한 후\n",
    "num_tokens = [len(tokens) for tokens in total_data_text]\n",
    "num_tokens = np.array(num_tokens)\n",
    "# 문장길이의 평균값, 최대값, 표준편차를 계산해 본다. \n",
    "print('문장길이 평균 : ', np.mean(num_tokens))\n",
    "print('문장길이 최대 : ', np.max(num_tokens))\n",
    "print('문장길이 표준편차 : ', np.std(num_tokens))\n",
    "\n",
    "# 예를들어, 최대 길이를 (평균 + 2*표준편차)로 한다면,  \n",
    "max_tokens = np.mean(num_tokens) + 2 * np.std(num_tokens)\n",
    "maxlen = int(max_tokens)\n",
    "print('pad_sequences maxlen : ', maxlen)\n",
    "print('전체 문장의 {}%가 maxlen 설정값 이내에 포함됩니다. '.format(np.sum(num_tokens < max_tokens) / len(num_tokens)))"
   ]
  },
  {
   "cell_type": "code",
   "execution_count": 11,
   "id": "4a3b1fb9",
   "metadata": {},
   "outputs": [
    {
     "name": "stdout",
     "output_type": "stream",
     "text": [
      "(25000, 580)\n"
     ]
    }
   ],
   "source": [
    "x_train = tf.keras.preprocessing.sequence.pad_sequences(x_train,\n",
    "                                                        value=word_to_index[\"<PAD>\"],\n",
    "                                                        padding='post', # 혹은 'pre'\n",
    "                                                        maxlen=maxlen)\n",
    "\n",
    "x_test = tf.keras.preprocessing.sequence.pad_sequences(x_test,\n",
    "                                                       value=word_to_index[\"<PAD>\"],\n",
    "                                                       padding='post', # 혹은 'pre'\n",
    "                                                       maxlen=maxlen)\n",
    "\n",
    "print(x_train.shape)"
   ]
  },
  {
   "cell_type": "markdown",
   "id": "098938a4",
   "metadata": {},
   "source": [
    "## RNN 모델 설계"
   ]
  },
  {
   "cell_type": "code",
   "execution_count": 15,
   "id": "5cf57d68",
   "metadata": {},
   "outputs": [
    {
     "name": "stdout",
     "output_type": "stream",
     "text": [
      "Model: \"sequential_1\"\n",
      "_________________________________________________________________\n",
      "Layer (type)                 Output Shape              Param #   \n",
      "=================================================================\n",
      "embedding_1 (Embedding)      (None, None, 1000)        10000000  \n",
      "_________________________________________________________________\n",
      "lstm_1 (LSTM)                (None, 16)                65088     \n",
      "_________________________________________________________________\n",
      "dense_2 (Dense)              (None, 16)                272       \n",
      "_________________________________________________________________\n",
      "dense_3 (Dense)              (None, 1)                 17        \n",
      "=================================================================\n",
      "Total params: 10,065,377\n",
      "Trainable params: 10,065,377\n",
      "Non-trainable params: 0\n",
      "_________________________________________________________________\n"
     ]
    }
   ],
   "source": [
    "vocab_size = 10000    # 어휘 사전의 크기입니다(10,000개의 단어)\n",
    "word_vector_dim = 1000  # 워드 벡터의 차원 수 (변경 가능한 하이퍼파라미터)\n",
    "\n",
    "# model 설계 - 딥러닝 모델 코드를 직접 작성해 주세요.\n",
    "model = tf.keras.Sequential()\n",
    "\n",
    "model.add(tf.keras.layers.Embedding(vocab_size, word_vector_dim, input_shape=(None,)))\n",
    "model.add(tf.keras.layers.LSTM(16))   # 가장 널리 쓰이는 RNN인 LSTM 레이어를 사용. LSTM state 벡터의 차원수는 8\n",
    "model.add(tf.keras.layers.Dense(16, activation='relu'))\n",
    "model.add(tf.keras.layers.Dense(1, activation='sigmoid'))  # 최종 출력은 긍정/부정을 나타내는 1dim 입니다.\n",
    "\n",
    "model.summary()"
   ]
  },
  {
   "cell_type": "code",
   "execution_count": 16,
   "id": "45c1a37c",
   "metadata": {},
   "outputs": [
    {
     "name": "stdout",
     "output_type": "stream",
     "text": [
      "(15000, 580)\n",
      "(15000,)\n"
     ]
    }
   ],
   "source": [
    "# validation set 10000건 분리\n",
    "x_val = x_train[:10000]   \n",
    "y_val = y_train[:10000]\n",
    "\n",
    "# validation set을 제외한 나머지 15000건\n",
    "partial_x_train = x_train[10000:]  \n",
    "partial_y_train = y_train[10000:]\n",
    "\n",
    "print(partial_x_train.shape)\n",
    "print(partial_y_train.shape)"
   ]
  },
  {
   "cell_type": "markdown",
   "id": "8daa77fa",
   "metadata": {},
   "source": [
    "model 훈련 전에, 훈련용 데이터셋 25000건 중 10000건을 분리하여 검증셋(validation set)으로 사용했다. <br>\n",
    "적절한 validation 데이터는 몇 개가 좋을지 고민해 볼 필요가 있을 듯하다."
   ]
  },
  {
   "cell_type": "code",
   "execution_count": 17,
   "id": "de9a6be9",
   "metadata": {},
   "outputs": [
    {
     "name": "stdout",
     "output_type": "stream",
     "text": [
      "Epoch 1/20\n",
      "30/30 [==============================] - 6s 140ms/step - loss: 0.6933 - accuracy: 0.5021 - val_loss: 0.6928 - val_accuracy: 0.5012\n",
      "Epoch 2/20\n",
      "30/30 [==============================] - 4s 129ms/step - loss: 0.6912 - accuracy: 0.5065 - val_loss: 0.6917 - val_accuracy: 0.5025\n",
      "Epoch 3/20\n",
      "30/30 [==============================] - 4s 129ms/step - loss: 0.6848 - accuracy: 0.5210 - val_loss: 0.6895 - val_accuracy: 0.5104\n",
      "Epoch 4/20\n",
      "30/30 [==============================] - 4s 130ms/step - loss: 0.6729 - accuracy: 0.5296 - val_loss: 0.6932 - val_accuracy: 0.5085\n",
      "Epoch 5/20\n",
      "30/30 [==============================] - 4s 131ms/step - loss: 0.6611 - accuracy: 0.5355 - val_loss: 0.7059 - val_accuracy: 0.5083\n",
      "Epoch 6/20\n",
      "30/30 [==============================] - 4s 131ms/step - loss: 0.6566 - accuracy: 0.5271 - val_loss: 0.7139 - val_accuracy: 0.5090\n",
      "Epoch 7/20\n",
      "30/30 [==============================] - 4s 131ms/step - loss: 0.6533 - accuracy: 0.5353 - val_loss: 0.7312 - val_accuracy: 0.5083\n",
      "Epoch 8/20\n",
      "30/30 [==============================] - 4s 132ms/step - loss: 0.6529 - accuracy: 0.5349 - val_loss: 0.7256 - val_accuracy: 0.5090\n",
      "Epoch 9/20\n",
      "30/30 [==============================] - 4s 133ms/step - loss: 0.6511 - accuracy: 0.5382 - val_loss: 0.7280 - val_accuracy: 0.5085\n",
      "Epoch 10/20\n",
      "30/30 [==============================] - 4s 133ms/step - loss: 0.6506 - accuracy: 0.5387 - val_loss: 0.7359 - val_accuracy: 0.5085\n",
      "Epoch 11/20\n",
      "30/30 [==============================] - 4s 134ms/step - loss: 0.6510 - accuracy: 0.5392 - val_loss: 0.7587 - val_accuracy: 0.5079\n",
      "Epoch 12/20\n",
      "30/30 [==============================] - 4s 135ms/step - loss: 0.6506 - accuracy: 0.5392 - val_loss: 0.7505 - val_accuracy: 0.5088\n",
      "Epoch 13/20\n",
      "30/30 [==============================] - 4s 135ms/step - loss: 0.6510 - accuracy: 0.5391 - val_loss: 0.7414 - val_accuracy: 0.5066\n",
      "Epoch 14/20\n",
      "30/30 [==============================] - 4s 135ms/step - loss: 0.6528 - accuracy: 0.5345 - val_loss: 0.7281 - val_accuracy: 0.5072\n",
      "Epoch 15/20\n",
      "30/30 [==============================] - 4s 135ms/step - loss: 0.6504 - accuracy: 0.5401 - val_loss: 0.7367 - val_accuracy: 0.5128\n",
      "Epoch 16/20\n",
      "30/30 [==============================] - 4s 136ms/step - loss: 0.6486 - accuracy: 0.5425 - val_loss: 0.7491 - val_accuracy: 0.5159\n",
      "Epoch 17/20\n",
      "30/30 [==============================] - 4s 137ms/step - loss: 0.6479 - accuracy: 0.5511 - val_loss: 0.7381 - val_accuracy: 0.5155\n",
      "Epoch 18/20\n",
      "30/30 [==============================] - 4s 137ms/step - loss: 0.6500 - accuracy: 0.5348 - val_loss: 0.7396 - val_accuracy: 0.5127\n",
      "Epoch 19/20\n",
      "30/30 [==============================] - 4s 137ms/step - loss: 0.6426 - accuracy: 0.5697 - val_loss: 0.6607 - val_accuracy: 0.6581\n",
      "Epoch 20/20\n",
      "30/30 [==============================] - 4s 138ms/step - loss: 0.4726 - accuracy: 0.7939 - val_loss: 0.6193 - val_accuracy: 0.7170\n"
     ]
    }
   ],
   "source": [
    "model.compile(optimizer='adam',\n",
    "              loss='binary_crossentropy',\n",
    "              metrics=['accuracy'])\n",
    "              \n",
    "epochs=20  \n",
    "\n",
    "history = model.fit(partial_x_train,\n",
    "                    partial_y_train,\n",
    "                    epochs=epochs,\n",
    "                    batch_size=512,\n",
    "                    validation_data=(x_val, y_val),\n",
    "                    verbose=1)"
   ]
  },
  {
   "cell_type": "code",
   "execution_count": 18,
   "id": "5a952777",
   "metadata": {},
   "outputs": [
    {
     "name": "stdout",
     "output_type": "stream",
     "text": [
      "782/782 - 6s - loss: 0.6234 - accuracy: 0.7112\n",
      "[0.6233735680580139, 0.7112399935722351]\n"
     ]
    }
   ],
   "source": [
    "results = model.evaluate(x_test,  y_test, verbose=2)\n",
    "\n",
    "print(results)"
   ]
  },
  {
   "cell_type": "code",
   "execution_count": 19,
   "id": "b2927747",
   "metadata": {},
   "outputs": [
    {
     "name": "stdout",
     "output_type": "stream",
     "text": [
      "dict_keys(['loss', 'accuracy', 'val_loss', 'val_accuracy'])\n"
     ]
    }
   ],
   "source": [
    "history_dict = history.history\n",
    "print(history_dict.keys()) # epoch에 따른 그래프를 그려볼 수 있는 항목들"
   ]
  },
  {
   "cell_type": "code",
   "execution_count": 20,
   "id": "e6aacac8",
   "metadata": {},
   "outputs": [
    {
     "data": {
      "image/png": "[encoded data removed]",
      "text/plain": [
       "<Figure size 432x288 with 1 Axes>"
      ]
     },
     "metadata": {
      "needs_background": "light"
     },
     "output_type": "display_data"
    }
   ],
   "source": [
    "import matplotlib.pyplot as plt\n",
    "\n",
    "acc = history_dict['accuracy']\n",
    "val_acc = history_dict['val_accuracy']\n",
    "loss = history_dict['loss']\n",
    "val_loss = history_dict['val_loss']\n",
    "\n",
    "epochs = range(1, len(acc) + 1)\n",
    "\n",
    "# \"bo\"는 \"파란색 점\"입니다\n",
    "plt.plot(epochs, loss, 'bo', label='Training loss')\n",
    "# b는 \"파란 실선\"입니다\n",
    "plt.plot(epochs, val_loss, 'b', label='Validation loss')\n",
    "plt.title('Training and validation loss')\n",
    "plt.xlabel('Epochs')\n",
    "plt.ylabel('Loss')\n",
    "plt.legend()\n",
    "\n",
    "plt.show()"
   ]
  },
  {
   "cell_type": "code",
   "execution_count": 21,
   "id": "f568c2bc",
   "metadata": {},
   "outputs": [
    {
     "data": {
      "image/png": "[encoded data removed]",
      "text/plain": [
       "<Figure size 432x288 with 1 Axes>"
      ]
     },
     "metadata": {
      "needs_background": "light"
     },
     "output_type": "display_data"
    }
   ],
   "source": [
    "plt.clf()   # 그림을 초기화합니다\n",
    "\n",
    "plt.plot(epochs, acc, 'bo', label='Training acc')\n",
    "plt.plot(epochs, val_acc, 'b', label='Validation acc')\n",
    "plt.title('Training and validation accuracy')\n",
    "plt.xlabel('Epochs')\n",
    "plt.ylabel('Accuracy')\n",
    "plt.legend()\n",
    "\n",
    "plt.show()"
   ]
  },
  {
   "cell_type": "code",
   "execution_count": 22,
   "id": "76d9600d",
   "metadata": {},
   "outputs": [
    {
     "name": "stdout",
     "output_type": "stream",
     "text": [
      "(10000, 1000)\n"
     ]
    }
   ],
   "source": [
    "embedding_layer = model.layers[0]\n",
    "weights = embedding_layer.get_weights()[0]\n",
    "print(weights.shape)    # shape: (vocab_size, embedding_dim)"
   ]
  },
  {
   "cell_type": "code",
   "execution_count": 23,
   "id": "0e3dfef4",
   "metadata": {},
   "outputs": [],
   "source": [
    "# 학습한 Embedding 파라미터를 파일에 써서 저장합니다. \n",
    "word2vec_file_path = os.getenv('HOME')+'/aiffel/sentiment_classification/data/word2vec.txt'\n",
    "f = open(word2vec_file_path, 'w')\n",
    "f.write('{} {}\\n'.format(vocab_size-4, word_vector_dim))  # 몇개의 벡터를 얼마 사이즈로 기재할지 타이틀을 씁니다.\n",
    "\n",
    "# 단어 개수(에서 특수문자 4개는 제외하고)만큼의 워드 벡터를 파일에 기록합니다. \n",
    "vectors = model.get_weights()[0]\n",
    "for i in range(4,vocab_size):\n",
    "    f.write('{} {}\\n'.format(index_to_word[i], ' '.join(map(str, list(vectors[i, :])))))\n",
    "f.close()"
   ]
  },
  {
   "cell_type": "code",
   "execution_count": 24,
   "id": "d2a4112b",
   "metadata": {},
   "outputs": [
    {
     "data": {
      "text/plain": [
       "array([ 2.85104308e-02, -4.05515358e-03, -2.50897873e-02,  7.25983381e-02,\n",
       "       -1.98610313e-02,  4.15225811e-02, -3.10876276e-02,  5.10232411e-02,\n",
       "       -2.76480112e-02, -1.22920126e-02,  1.31223984e-02, -4.36452478e-02,\n",
       "        7.03931134e-03, -1.64390691e-02,  4.13616598e-02, -1.00004440e-02,\n",
       "       -1.17026223e-02, -3.12402193e-02,  6.17464480e-04,  2.44855694e-02,\n",
       "       -3.74033814e-03, -4.68792617e-02, -1.52579965e-02,  1.10744238e-02,\n",
       "        3.74452136e-02, -2.48752953e-03,  1.23434048e-02, -1.86149776e-02,\n",
       "        3.16189043e-02, -4.94560674e-02,  3.59653421e-02, -1.25010312e-02,\n",
       "        2.29989663e-02,  8.35392401e-02,  2.89677568e-02,  1.44433370e-03,\n",
       "        3.41542736e-02, -1.89340126e-03, -4.85310629e-02, -1.40252626e-02,\n",
       "        3.17470655e-02, -7.53470585e-02,  1.55828632e-02, -2.59291083e-02,\n",
       "       -1.52945211e-02,  9.22814850e-03, -9.55359824e-03,  1.09262522e-02,\n",
       "       -1.05779637e-02,  1.20110894e-02, -2.87875924e-02, -2.54057869e-02,\n",
       "       -1.23742698e-02, -2.41094436e-02,  5.30015025e-03,  1.73051339e-02,\n",
       "       -4.04968858e-02, -4.32463214e-02,  7.75366381e-04, -4.32423800e-02,\n",
       "       -4.63216938e-03, -5.69604151e-02, -6.43125623e-02,  2.12647356e-02,\n",
       "        6.76589236e-02,  9.56115872e-03,  7.36524817e-03, -3.49125564e-02,\n",
       "       -2.93926056e-02,  8.22085887e-03,  2.85273436e-02,  1.98629815e-02,\n",
       "        2.99920002e-03, -5.86059839e-02,  8.19515251e-03, -2.25802325e-02,\n",
       "        6.51587993e-02,  5.13438471e-02, -3.63582522e-02,  2.54840069e-02,\n",
       "        5.35498224e-02,  9.61520895e-03,  3.06075308e-02,  5.71185499e-02,\n",
       "        2.87161805e-02,  2.21073106e-02,  7.19242990e-02, -2.40835082e-02,\n",
       "        1.21167423e-02, -2.09852820e-03, -2.11334862e-02,  3.14524062e-02,\n",
       "       -3.61750685e-02,  5.79128135e-03, -1.05495108e-02,  9.46125947e-03,\n",
       "        5.92324464e-03,  8.10194016e-02,  5.75786345e-02, -4.95872973e-03,\n",
       "        2.36702263e-02,  1.79502144e-02, -2.35893670e-02,  2.22993884e-02,\n",
       "        7.27422163e-02, -5.88449724e-02,  3.42337191e-02, -4.84049544e-02,\n",
       "       -5.76704089e-03, -6.30077347e-03,  4.26320061e-02,  3.14970389e-02,\n",
       "        6.07541874e-02, -5.23700565e-02,  3.05758771e-02, -1.02175707e-02,\n",
       "       -5.23280911e-02, -1.16451960e-02,  3.83648835e-02,  1.90290529e-02,\n",
       "       -1.68355331e-02, -9.16760508e-03, -4.44544554e-02, -3.31253260e-02,\n",
       "        7.96281174e-03, -5.83214872e-03,  4.70659621e-02,  1.32155372e-02,\n",
       "        8.47992823e-02,  7.76281059e-02,  5.97346686e-02, -5.69139421e-03,\n",
       "       -3.28402147e-02, -6.52352050e-02,  3.72565500e-02, -1.08290673e-03,\n",
       "       -1.65995192e-02,  4.12947983e-02,  4.79344688e-02, -2.76956577e-02,\n",
       "        2.34927926e-02, -3.57751288e-02, -3.33629921e-02,  8.35373923e-02,\n",
       "       -8.75211507e-03, -2.57204361e-02,  3.24038565e-02, -2.29607057e-02,\n",
       "       -5.19027188e-02, -9.51525122e-02,  8.98917913e-02, -2.88482234e-02,\n",
       "       -1.61142964e-02, -5.21907732e-02,  1.82646364e-02,  9.95463040e-03,\n",
       "       -2.02228725e-02,  8.50407593e-03, -2.21817046e-02,  4.58265767e-02,\n",
       "       -3.80129367e-02, -8.06714296e-02, -8.12363159e-03, -8.54582060e-04,\n",
       "        1.94600839e-02,  6.45824745e-02, -1.89514679e-03,  3.64785688e-03,\n",
       "       -1.46736922e-02,  1.23225236e-02,  7.03755841e-02,  2.88099032e-02,\n",
       "       -7.84566179e-02, -3.88848037e-03,  1.39501505e-02, -4.36170809e-02,\n",
       "        8.88850540e-02,  3.67959253e-02,  9.20472741e-02, -1.68115757e-02,\n",
       "       -8.22246596e-02,  7.31993094e-03,  4.42769527e-02,  6.17327802e-02,\n",
       "        3.54621112e-02, -7.38459080e-02,  1.18527478e-02, -2.32032873e-02,\n",
       "       -1.04729617e-02,  5.80905713e-02, -1.88475884e-02, -4.96732770e-03,\n",
       "       -3.78743261e-02, -1.12177180e-02, -4.32945881e-03, -4.62314002e-02,\n",
       "        1.57450791e-02, -1.61625668e-02,  1.83635019e-02,  1.21351006e-02,\n",
       "        4.09883335e-02, -1.80137902e-02,  4.01454046e-02,  2.84710731e-02,\n",
       "        2.38896366e-02,  9.08331387e-03, -2.02790331e-02, -1.00243348e-03,\n",
       "        3.21702436e-02, -2.81112697e-02, -1.13177849e-02, -6.45685717e-02,\n",
       "        6.22703810e-04, -8.86742142e-04, -3.94295342e-02, -5.88024408e-02,\n",
       "       -2.35450380e-02, -4.39762138e-02, -3.81406676e-03, -5.19902259e-02,\n",
       "       -2.77537443e-02, -3.63144912e-02, -1.86500885e-02, -4.02285531e-02,\n",
       "        5.22169732e-02, -4.34069075e-02, -1.00581339e-02, -5.76412212e-03,\n",
       "        7.94520602e-03, -7.24127376e-03, -6.40968457e-02,  5.61843812e-03,\n",
       "        1.07606798e-02, -1.52063835e-02,  8.29258040e-02,  4.64086712e-04,\n",
       "        1.15527119e-02,  1.48752015e-02, -2.82830615e-02,  6.27065152e-02,\n",
       "        2.44290102e-02,  2.17277668e-02,  2.62150019e-02,  1.74242165e-03,\n",
       "        8.11994635e-03,  2.64223963e-02, -4.37962711e-02, -1.40639185e-03,\n",
       "       -3.18889134e-02,  5.13017885e-02,  7.29731983e-03, -1.47200022e-02,\n",
       "       -8.39378685e-03,  4.64415923e-02, -3.34031545e-02, -3.79392970e-03,\n",
       "       -1.35512702e-04, -2.19085589e-02, -4.53357846e-02,  6.77345495e-04,\n",
       "       -1.30746346e-02,  1.01339798e-02, -5.68145886e-03,  6.32246137e-02,\n",
       "       -2.64106877e-02, -3.83547507e-02,  4.41376530e-02, -6.96022734e-02,\n",
       "        3.49906720e-02,  3.24112326e-02,  1.19048115e-02,  1.20546836e-02,\n",
       "       -2.95670051e-02, -8.87810439e-02,  1.24927890e-02,  4.60973158e-02,\n",
       "        6.54988885e-02, -3.84300537e-02, -6.42991159e-03,  6.70284107e-02,\n",
       "       -3.33860368e-02,  1.70036852e-02, -1.51406704e-02,  9.30385850e-03,\n",
       "       -1.69510394e-02,  7.69279664e-03, -5.40527478e-02,  5.60357571e-02,\n",
       "        3.92353870e-02,  2.01098062e-02, -7.45423660e-02, -6.52782246e-02,\n",
       "        6.29485995e-02, -3.10893916e-03,  1.63931753e-02,  1.07657284e-01,\n",
       "       -4.23584059e-02, -7.34207639e-03, -3.30300815e-02,  4.11403067e-02,\n",
       "        2.04829983e-02, -8.44872650e-03, -3.74277830e-02, -4.75656940e-03,\n",
       "       -2.62959898e-02,  1.31045347e-02, -6.94420859e-02, -1.06010595e-02,\n",
       "        4.08091098e-02, -2.02256404e-02,  7.55615300e-03,  3.09560206e-02,\n",
       "        4.41863155e-03,  5.53375445e-02,  3.60306129e-02, -3.99203412e-02,\n",
       "        1.69878569e-03, -1.02701513e-02, -1.01372609e-02,  6.24868236e-02,\n",
       "       -5.10696620e-02, -1.12639228e-02,  5.18781170e-02,  1.61059536e-02,\n",
       "       -5.88180982e-02,  4.94268090e-02, -6.77658543e-02, -2.94248946e-02,\n",
       "       -2.35432424e-02, -2.81103142e-02,  5.39218113e-02,  1.66597031e-02,\n",
       "       -5.08776517e-04, -2.93248929e-02,  3.81578924e-03, -6.67368546e-02,\n",
       "        9.78697091e-03, -5.26406337e-03, -4.31261696e-02,  3.08721028e-02,\n",
       "       -9.19117406e-03,  1.68571323e-02, -4.90539931e-02,  2.01019663e-02,\n",
       "        3.46735381e-02, -1.58775840e-02,  4.59838137e-02, -2.99350321e-02,\n",
       "        6.70237374e-03,  6.49997126e-03, -1.15939807e-02,  4.77171689e-02,\n",
       "       -6.11004829e-02, -2.71096304e-02,  3.30033302e-02, -8.40077102e-02,\n",
       "        3.81681509e-03,  2.63596643e-02, -6.93173753e-03, -8.67874455e-03,\n",
       "        7.53721446e-02, -3.17117712e-03,  2.26373896e-02,  1.57101136e-02,\n",
       "        1.30344341e-02,  5.37801273e-02,  1.37900487e-02, -4.65148613e-02,\n",
       "       -1.87263582e-02,  9.27788205e-03, -2.91760862e-02, -2.02152506e-02,\n",
       "       -4.25475016e-02,  5.55962250e-02,  1.87526979e-02, -3.61754373e-02,\n",
       "       -3.85065116e-02,  3.00023984e-02,  2.54266895e-02, -6.41908450e-03,\n",
       "       -7.19824284e-02, -4.11070138e-02,  6.47172378e-03, -6.27515391e-02,\n",
       "       -2.47404687e-02, -2.51167193e-02, -9.66149494e-02,  7.32250232e-03,\n",
       "       -5.88919222e-02, -2.84341164e-02, -2.37043891e-02,  3.67104858e-02,\n",
       "       -1.99538767e-02, -3.25036831e-02, -4.13624272e-02,  1.88198872e-02,\n",
       "        8.48073699e-03, -5.07421717e-02,  1.09577198e-02, -3.15229334e-02,\n",
       "        2.03466192e-02, -3.71320115e-04, -2.16698684e-02, -1.68823283e-02,\n",
       "        5.15665039e-02,  9.39811300e-03,  2.70707663e-02,  4.07146625e-02,\n",
       "       -5.06043807e-02,  6.98728953e-03,  5.94519600e-02,  8.23680237e-02,\n",
       "       -4.25264891e-03,  1.74775254e-03,  3.68782738e-03,  7.60690030e-03,\n",
       "       -4.90040556e-02, -9.20943990e-02, -1.32676251e-02,  7.42919520e-02,\n",
       "        3.39859948e-02,  2.27449015e-02, -2.44007970e-05, -1.56181827e-02,\n",
       "       -6.09785840e-02, -1.06167302e-01,  2.78941561e-02, -5.87602369e-02,\n",
       "       -6.08960632e-04,  4.33189645e-02,  6.17072619e-02,  3.61062749e-03,\n",
       "        3.26819383e-02,  4.01873179e-02, -3.56645919e-02, -8.38025808e-02,\n",
       "        7.14510530e-02, -5.55175217e-03,  2.77778152e-02,  1.67771950e-02,\n",
       "        6.96907518e-03,  1.08732320e-02,  4.49127629e-02, -6.27973750e-02,\n",
       "        5.07416762e-02, -1.68762710e-02, -9.07873455e-03, -1.49213411e-02,\n",
       "       -1.30163403e-02, -2.02854797e-02, -3.61150526e-03,  3.68357562e-02,\n",
       "        7.71996602e-02,  3.41178407e-03, -2.14681271e-02,  3.97532545e-02,\n",
       "       -4.32193130e-02, -1.99605562e-02,  5.86820580e-02, -5.07535134e-03,\n",
       "        5.83333522e-02,  7.69422296e-03,  3.33092324e-02, -1.86468717e-02,\n",
       "        9.36200563e-03, -6.27419725e-03, -5.55169061e-02, -1.59769435e-03,\n",
       "        2.17926670e-02, -3.16782147e-02, -3.11492793e-02, -3.50450464e-02,\n",
       "        7.53401965e-02, -1.05246026e-02,  2.09434740e-02, -4.31862427e-03,\n",
       "       -3.99718508e-02,  6.46614761e-04, -5.49402013e-02, -2.02188594e-03,\n",
       "       -6.07589148e-02, -6.05210513e-02,  1.68719217e-02, -1.76636316e-02,\n",
       "        5.28693050e-02, -3.12589854e-02,  7.02621192e-02,  2.31557414e-02,\n",
       "       -5.95366135e-02,  1.64201744e-02, -3.87522392e-02, -4.06737737e-02,\n",
       "       -1.74194649e-02, -2.93528778e-04,  1.01475522e-03,  2.70560733e-03,\n",
       "        4.30153422e-02,  2.27924585e-02, -1.33928424e-02, -7.14233937e-03,\n",
       "        6.30318597e-02, -1.35022849e-02, -6.35520965e-02,  1.51778590e-02,\n",
       "        1.47166299e-02,  4.18134965e-02,  5.62064275e-02,  2.22231168e-02,\n",
       "       -1.28499120e-02, -1.67520549e-02, -5.56042679e-02,  5.47665497e-03,\n",
       "        4.08235714e-02,  5.06929792e-02, -9.40279278e-04,  2.70282160e-02,\n",
       "       -5.42550385e-02, -1.16145816e-02,  1.53904269e-02, -4.89886326e-04,\n",
       "        1.23360809e-02, -5.11584766e-02, -5.22961617e-02, -5.42461649e-02,\n",
       "       -5.33486828e-02, -8.40876717e-03,  1.95657182e-02,  3.64331044e-02,\n",
       "        7.76166236e-03, -5.57940230e-02,  6.70209005e-02, -5.70365004e-02,\n",
       "       -1.84762198e-02,  4.83456664e-02, -4.96195629e-02, -9.62599833e-03,\n",
       "        1.90069675e-02,  1.74094290e-02, -3.08368448e-03, -5.75879440e-02,\n",
       "        4.22612801e-02, -5.54970726e-02, -1.91502329e-02, -1.10724885e-02,\n",
       "        2.55952850e-02, -2.63662450e-03,  2.87275519e-02, -8.53800122e-03,\n",
       "        5.35216145e-02, -4.43728501e-03,  2.59054340e-02,  1.45752933e-02,\n",
       "        6.20042533e-02, -7.41554797e-02,  8.11059587e-03,  4.81347647e-03,\n",
       "       -1.29185040e-02, -1.33231487e-02,  6.40526488e-02, -1.09106321e-02,\n",
       "        1.98056251e-02, -6.48369342e-02,  4.89603393e-02,  4.74910662e-02,\n",
       "        5.19015081e-02, -5.61788911e-03,  3.94019261e-02, -3.84800509e-03,\n",
       "        3.50602828e-02, -3.93965729e-02,  6.28648177e-02,  4.22465131e-02,\n",
       "        6.09803721e-02,  4.47199866e-02, -6.51760213e-03,  1.42533248e-02,\n",
       "       -2.00424436e-02,  1.01831956e-02,  4.11745682e-02, -6.26636967e-02,\n",
       "        4.29960527e-02, -4.78578871e-03,  4.30999044e-03, -5.34913242e-02,\n",
       "        5.21119535e-02, -5.14618084e-02,  1.99063979e-02,  5.19893784e-03,\n",
       "       -3.41953561e-02,  2.78408304e-02,  3.14650349e-02,  6.98510557e-02,\n",
       "        5.86042227e-03, -1.14736948e-02,  2.68211914e-03,  5.44351200e-03,\n",
       "        1.71076749e-02, -3.14674303e-02, -1.37516093e-02,  5.73871844e-02,\n",
       "       -3.83592099e-02, -2.31356453e-02, -2.51465142e-02, -9.78346914e-02,\n",
       "       -7.89083689e-02,  5.44005120e-03,  5.53322546e-02, -2.32576169e-02,\n",
       "        1.93041712e-02, -1.67485848e-02,  3.70504074e-02,  1.81427668e-03,\n",
       "       -3.66471559e-02,  2.64158985e-03,  1.59775689e-02,  3.94960418e-02,\n",
       "        6.33046404e-02,  1.20614208e-02,  7.86543638e-03,  9.85433161e-03,\n",
       "        6.53230073e-03,  4.90333028e-02, -1.72322690e-02, -8.54339357e-03,\n",
       "        4.30037919e-03, -4.03175429e-02, -5.42195737e-02,  7.24709406e-02,\n",
       "        2.90528499e-03,  4.10406813e-02,  3.01249325e-02,  4.09479365e-02,\n",
       "        7.99543038e-02,  2.85691284e-02,  5.53824566e-02,  4.30257134e-02,\n",
       "        2.07666531e-02,  2.89957710e-02,  1.24081094e-02, -1.97722334e-02,\n",
       "       -6.15742989e-03, -3.14558782e-02, -6.29502162e-02, -2.17751730e-02,\n",
       "       -1.78710942e-03,  4.79760133e-02, -8.07988644e-03,  3.97382304e-03,\n",
       "        2.83994023e-02,  3.61986784e-03,  6.85354471e-02,  2.39309557e-02,\n",
       "       -2.69250795e-02, -2.09715534e-02,  1.69035625e-02,  9.65907425e-03,\n",
       "       -1.71963051e-02, -4.67095152e-02, -4.04752716e-02,  3.67724709e-02,\n",
       "        8.58842805e-02,  3.81687097e-02,  2.09913533e-02,  1.41028231e-02,\n",
       "        6.11227639e-02,  3.03557273e-02, -2.57487092e-02,  2.51832325e-03,\n",
       "       -1.31479390e-02,  6.45850375e-02, -1.48130860e-02,  9.14514884e-02,\n",
       "        3.71928811e-02, -6.46833405e-02, -4.71210144e-02, -2.26635113e-03,\n",
       "        1.41917197e-02, -6.03444269e-03,  2.61864252e-02, -7.43910000e-02,\n",
       "       -2.29123663e-02,  3.52907218e-02,  1.04829911e-02,  8.45242366e-02,\n",
       "       -1.49604538e-02, -2.03846376e-02, -3.12792137e-02,  2.09383126e-02,\n",
       "        8.13169312e-03, -2.04506405e-02,  4.74095112e-03, -1.26211923e-02,\n",
       "       -1.20902266e-02, -2.19759811e-02,  4.30808961e-02, -4.84021730e-04,\n",
       "        4.90895957e-02, -1.64129529e-02, -4.71257977e-02, -4.62423265e-02,\n",
       "        6.97606131e-02,  1.19398092e-03, -1.93243772e-02,  5.64889377e-03,\n",
       "        1.52251320e-02, -1.93071384e-02, -5.43454923e-02,  1.91415641e-02,\n",
       "        4.23489027e-02,  6.54649287e-02, -3.59158479e-02, -6.94388151e-02,\n",
       "       -4.78292070e-03,  4.16537654e-03,  2.14562751e-05, -3.15794833e-02,\n",
       "        6.49543777e-02,  3.46079096e-02, -2.66867876e-02, -2.95668300e-02,\n",
       "        9.80300084e-02,  6.52644336e-02, -1.69698223e-02,  6.70677125e-02,\n",
       "        2.47929767e-02, -3.76571249e-03, -4.44262736e-02,  4.04227041e-02,\n",
       "       -8.72097909e-03,  8.54358450e-03, -1.54365888e-02,  1.49804857e-02,\n",
       "       -9.33993887e-03,  2.05803905e-02, -4.20846231e-02,  5.07302210e-02,\n",
       "       -1.87449027e-02,  5.49350418e-02, -1.39518725e-02, -3.61902118e-02,\n",
       "        5.75262755e-02, -2.56435182e-02, -4.70355563e-02, -2.80918702e-02,\n",
       "        7.47077838e-02, -9.18450858e-03, -7.67534748e-02, -1.02106882e-02,\n",
       "       -3.11633758e-02,  5.29846502e-03, -4.09124698e-03,  3.12427469e-02,\n",
       "       -5.08857854e-02, -2.60799211e-02, -1.91750145e-03, -1.34012708e-03,\n",
       "       -1.28511954e-02,  4.94694375e-02, -8.77952203e-03, -5.19014138e-05,\n",
       "        4.76141423e-02, -1.57388765e-02,  6.53984100e-02,  6.08118577e-03,\n",
       "        1.73563994e-02,  1.85914673e-02,  1.00839743e-02, -5.80439046e-02,\n",
       "       -2.34880876e-02, -8.60053767e-03,  3.67526859e-02, -5.34315780e-03,\n",
       "       -5.15819453e-02,  1.17886644e-02, -1.27028152e-02,  5.81395589e-02,\n",
       "       -4.89618033e-02, -6.73201159e-02, -2.55184714e-02, -1.07786609e-02,\n",
       "       -1.95702221e-02, -3.39530967e-02,  3.47992070e-02, -2.87431404e-02,\n",
       "        1.03252602e-03, -4.14415710e-02,  2.51950994e-02, -4.97506037e-02,\n",
       "       -2.84665991e-02,  6.13119714e-02,  7.39778131e-02, -3.11350282e-02,\n",
       "        3.22945304e-02,  6.94215950e-03, -2.28082836e-02,  1.84679180e-02,\n",
       "        2.17756052e-02,  2.46315897e-02,  6.01442941e-02, -1.26944073e-02,\n",
       "        7.57938847e-02,  3.87934707e-02, -3.35869268e-02,  2.11888961e-02,\n",
       "       -1.23927118e-02,  2.60901377e-02, -2.05058474e-02, -1.01727508e-02,\n",
       "        6.35095779e-03,  1.99518213e-03, -9.32830386e-03, -4.50930372e-03,\n",
       "       -5.29083870e-02,  6.29128590e-02, -5.58599569e-02,  1.86094921e-02,\n",
       "       -5.36365099e-02, -2.54440662e-02, -5.49673326e-02,  3.66805792e-02,\n",
       "        2.72296686e-02, -7.50696585e-02, -5.00555001e-02, -1.29759312e-02,\n",
       "       -2.96170469e-02,  3.92957106e-02,  6.24452159e-02,  8.55209306e-03,\n",
       "        1.54009042e-02, -2.38514747e-02,  7.14432448e-02,  2.96221077e-02,\n",
       "        3.03407870e-02, -1.76760741e-02, -1.94219616e-03, -6.72209039e-02,\n",
       "       -2.98488885e-03,  3.40761035e-04,  1.23997778e-02,  1.53737785e-02,\n",
       "        3.42442803e-02, -7.19690183e-03,  1.59432031e-02,  4.14566882e-02,\n",
       "       -5.57693057e-02,  5.80796157e-04, -2.32217908e-02,  4.49882559e-02,\n",
       "        1.29799051e-02,  1.79153085e-02,  7.55303213e-03,  9.77176242e-03,\n",
       "       -5.47929034e-02,  5.15890382e-02,  8.63180608e-02,  1.04381223e-04,\n",
       "       -4.17647474e-02,  3.01855057e-02, -1.67665887e-03, -1.80844869e-02,\n",
       "       -7.97592849e-02, -1.66362859e-02,  1.03169447e-02,  1.33706052e-02,\n",
       "        3.12281959e-02,  2.21133581e-03,  6.35353848e-02, -2.01660637e-02,\n",
       "       -5.79593740e-02,  1.87947191e-02, -2.92182788e-02, -5.48931584e-03,\n",
       "        4.53013442e-02, -5.54231144e-02, -6.69650659e-02, -4.88215266e-03,\n",
       "        2.67636888e-02, -5.31550311e-03, -2.76773199e-02,  2.51575280e-02,\n",
       "       -4.17375122e-05, -3.20534147e-02, -3.47159244e-02, -1.27952052e-02,\n",
       "        1.89437401e-02, -3.14601213e-02, -1.91745926e-02,  3.80934365e-02,\n",
       "       -6.89213797e-02, -1.10324472e-03,  1.02299720e-01, -2.22435873e-03,\n",
       "        1.11891292e-02,  3.20587307e-02, -2.18426213e-02,  4.86946777e-02,\n",
       "        1.42040933e-02, -9.42155160e-03, -5.10055423e-02,  1.08503690e-02,\n",
       "        3.44512165e-02,  4.42526937e-02, -6.30857348e-02, -1.36880903e-02,\n",
       "       -2.63429545e-02,  2.94334646e-02,  5.80542721e-02,  3.60708013e-02,\n",
       "       -4.70714178e-03,  8.89353640e-03,  7.23223612e-02,  2.26942170e-02,\n",
       "        1.52491042e-02, -4.00223657e-02, -1.48543697e-02,  5.13220541e-02,\n",
       "        2.11119577e-02, -7.46382698e-02, -8.10840800e-02,  1.34728393e-02,\n",
       "       -9.30741429e-03, -1.40227070e-02, -4.00454551e-02, -1.12726288e-02,\n",
       "        2.14299979e-03, -6.94454312e-02,  1.74075589e-02, -1.29447714e-03,\n",
       "       -7.24431425e-02, -6.29710779e-02, -5.80992475e-02,  2.13026069e-02,\n",
       "       -4.96745780e-02,  1.06392587e-02,  1.04247732e-02, -1.17128035e-02,\n",
       "       -2.87882127e-02, -2.74233781e-02, -3.50350812e-02,  1.54083166e-02,\n",
       "       -6.07343838e-02, -7.81321339e-03,  4.66771312e-02, -4.33207816e-03,\n",
       "        3.33107896e-02,  1.05389073e-01,  2.05281638e-02, -2.45689764e-03,\n",
       "       -4.13842406e-03, -3.65893878e-02,  2.54597384e-02,  5.85604608e-02,\n",
       "        1.00020003e-02,  1.43349227e-02, -6.68732747e-02, -3.19310650e-02,\n",
       "       -3.24496292e-02,  3.06160543e-02, -2.22207885e-03, -4.98032458e-02,\n",
       "        3.05808391e-02, -3.13402116e-02,  9.68787819e-02, -3.11369766e-02,\n",
       "        1.25098322e-02,  1.78111177e-02, -6.44841343e-02,  1.66248474e-02,\n",
       "       -3.99404764e-02,  5.63045330e-02,  3.83645743e-02,  8.89898557e-03,\n",
       "       -2.68352721e-02,  4.95506190e-02, -2.72071864e-02, -7.98279606e-03,\n",
       "       -5.70261590e-02, -1.93747401e-04, -3.24637331e-02, -1.24161411e-02,\n",
       "       -9.02378839e-03,  1.59910731e-02, -3.04292403e-02,  1.40555925e-03,\n",
       "       -5.89440856e-03,  6.45213667e-03,  1.96262985e-03,  7.67142996e-02,\n",
       "        7.76718631e-02,  3.67953330e-02,  2.89992858e-02, -4.30615284e-02,\n",
       "       -6.66659772e-02, -4.75857370e-02, -8.89841653e-03,  1.43207936e-02,\n",
       "       -4.91895527e-02, -2.70525534e-02,  6.51058406e-02,  7.50922551e-03],\n",
       "      dtype=float32)"
      ]
     },
     "execution_count": 24,
     "metadata": {},
     "output_type": "execute_result"
    }
   ],
   "source": [
    "from gensim.models.keyedvectors import Word2VecKeyedVectors\n",
    "\n",
    "word_vectors = Word2VecKeyedVectors.load_word2vec_format(word2vec_file_path, binary=False)\n",
    "vector = word_vectors['computer']\n",
    "vector"
   ]
  },
  {
   "cell_type": "code",
   "execution_count": 25,
   "id": "2d43c61d",
   "metadata": {},
   "outputs": [
    {
     "data": {
      "text/plain": [
       "[('great', 0.5505666732788086),\n",
       " ('stories', 0.542632520198822),\n",
       " ('purchase', 0.5359954237937927),\n",
       " ('performances', 0.5330222249031067),\n",
       " ('outstanding', 0.5265371799468994),\n",
       " ('pace', 0.5252372026443481),\n",
       " ('keeping', 0.5244243144989014),\n",
       " ('mystery', 0.5195255279541016),\n",
       " ('fun', 0.5181508660316467),\n",
       " ('finest', 0.5169169902801514)]"
      ]
     },
     "execution_count": 25,
     "metadata": {},
     "output_type": "execute_result"
    }
   ],
   "source": [
    "word_vectors.similar_by_word(\"love\")"
   ]
  },
  {
   "cell_type": "code",
   "execution_count": 26,
   "id": "f7956574",
   "metadata": {},
   "outputs": [
    {
     "data": {
      "text/plain": [
       "array([ 1.07421875e-01, -2.01171875e-01,  1.23046875e-01,  2.11914062e-01,\n",
       "       -9.13085938e-02,  2.16796875e-01, -1.31835938e-01,  8.30078125e-02,\n",
       "        2.02148438e-01,  4.78515625e-02,  3.66210938e-02, -2.45361328e-02,\n",
       "        2.39257812e-02, -1.60156250e-01, -2.61230469e-02,  9.71679688e-02,\n",
       "       -6.34765625e-02,  1.84570312e-01,  1.70898438e-01, -1.63085938e-01,\n",
       "       -1.09375000e-01,  1.49414062e-01, -4.65393066e-04,  9.61914062e-02,\n",
       "        1.68945312e-01,  2.60925293e-03,  8.93554688e-02,  6.49414062e-02,\n",
       "        3.56445312e-02, -6.93359375e-02, -1.46484375e-01, -1.21093750e-01,\n",
       "       -2.27539062e-01,  2.45361328e-02, -1.24511719e-01, -3.18359375e-01,\n",
       "       -2.20703125e-01,  1.30859375e-01,  3.66210938e-02, -3.63769531e-02,\n",
       "       -1.13281250e-01,  1.95312500e-01,  9.76562500e-02,  1.26953125e-01,\n",
       "        6.59179688e-02,  6.93359375e-02,  1.02539062e-02,  1.75781250e-01,\n",
       "       -1.68945312e-01,  1.21307373e-03, -2.98828125e-01, -1.15234375e-01,\n",
       "        5.66406250e-02, -1.77734375e-01, -2.08984375e-01,  1.76757812e-01,\n",
       "        2.38037109e-02, -2.57812500e-01, -4.46777344e-02,  1.88476562e-01,\n",
       "        5.51757812e-02,  5.02929688e-02, -1.06933594e-01,  1.89453125e-01,\n",
       "       -1.16210938e-01,  8.49609375e-02, -1.71875000e-01,  2.45117188e-01,\n",
       "       -1.73828125e-01, -8.30078125e-03,  4.56542969e-02, -1.61132812e-02,\n",
       "        1.86523438e-01, -6.05468750e-02, -4.17480469e-02,  1.82617188e-01,\n",
       "        2.20703125e-01, -1.22558594e-01, -2.55126953e-02, -3.08593750e-01,\n",
       "        9.13085938e-02,  1.60156250e-01,  1.70898438e-01,  1.19628906e-01,\n",
       "        7.08007812e-02, -2.64892578e-02, -3.08837891e-02,  4.06250000e-01,\n",
       "       -1.01562500e-01,  5.71289062e-02, -7.26318359e-03, -9.17968750e-02,\n",
       "       -1.50390625e-01, -2.55859375e-01,  2.16796875e-01, -3.63769531e-02,\n",
       "        2.24609375e-01,  8.00781250e-02,  1.56250000e-01,  5.27343750e-02,\n",
       "        1.50390625e-01, -1.14746094e-01, -8.64257812e-02,  1.19140625e-01,\n",
       "       -7.17773438e-02,  2.73437500e-01, -1.64062500e-01,  7.29370117e-03,\n",
       "        4.21875000e-01, -1.12792969e-01, -1.35742188e-01, -1.31835938e-01,\n",
       "       -1.37695312e-01, -7.66601562e-02,  6.25000000e-02,  4.98046875e-02,\n",
       "       -1.91406250e-01, -6.03027344e-02,  2.27539062e-01,  5.88378906e-02,\n",
       "       -3.24218750e-01,  5.41992188e-02, -1.35742188e-01,  8.17871094e-03,\n",
       "       -5.24902344e-02, -1.74713135e-03, -9.81445312e-02, -2.86865234e-02,\n",
       "        3.61328125e-02,  2.15820312e-01,  5.98144531e-02, -3.08593750e-01,\n",
       "       -2.27539062e-01,  2.61718750e-01,  9.86328125e-02, -5.07812500e-02,\n",
       "        1.78222656e-02,  1.31835938e-01, -5.35156250e-01, -1.81640625e-01,\n",
       "        1.38671875e-01, -3.10546875e-01, -9.71679688e-02,  1.31835938e-01,\n",
       "       -1.16210938e-01,  7.03125000e-02,  2.85156250e-01,  3.51562500e-02,\n",
       "       -1.01562500e-01, -3.75976562e-02,  1.41601562e-01,  1.42578125e-01,\n",
       "       -5.68847656e-02,  2.65625000e-01, -2.09960938e-01,  9.64355469e-03,\n",
       "       -6.68945312e-02, -4.83398438e-02, -6.10351562e-02,  2.45117188e-01,\n",
       "       -9.66796875e-02,  1.78222656e-02, -1.27929688e-01, -4.78515625e-02,\n",
       "       -7.26318359e-03,  1.79687500e-01,  2.78320312e-02, -2.10937500e-01,\n",
       "       -1.43554688e-01, -1.27929688e-01,  1.73339844e-02, -3.60107422e-03,\n",
       "       -2.04101562e-01,  3.63159180e-03, -1.19628906e-01, -6.15234375e-02,\n",
       "        5.93261719e-02, -3.23486328e-03, -1.70898438e-01, -3.14941406e-02,\n",
       "       -8.88671875e-02, -2.89062500e-01,  3.44238281e-02, -1.87500000e-01,\n",
       "        2.94921875e-01,  1.58203125e-01, -1.19628906e-01,  7.61718750e-02,\n",
       "        6.39648438e-02, -4.68750000e-02, -6.83593750e-02,  1.21459961e-02,\n",
       "       -1.44531250e-01,  4.54101562e-02,  3.68652344e-02,  3.88671875e-01,\n",
       "        1.45507812e-01, -2.55859375e-01, -4.46777344e-02, -1.33789062e-01,\n",
       "       -1.38671875e-01,  6.59179688e-02,  1.37695312e-01,  1.14746094e-01,\n",
       "        2.03125000e-01, -4.78515625e-02,  1.80664062e-02, -8.54492188e-02,\n",
       "       -2.48046875e-01, -3.39843750e-01, -2.83203125e-02,  1.05468750e-01,\n",
       "       -2.14843750e-01, -8.74023438e-02,  7.12890625e-02,  1.87500000e-01,\n",
       "       -1.12304688e-01,  2.73437500e-01, -3.26171875e-01, -1.77734375e-01,\n",
       "       -4.24804688e-02, -2.69531250e-01,  6.64062500e-02, -6.88476562e-02,\n",
       "       -1.99218750e-01, -7.03125000e-02, -2.43164062e-01, -3.66210938e-02,\n",
       "       -7.37304688e-02, -1.77734375e-01,  9.17968750e-02, -1.25000000e-01,\n",
       "       -1.65039062e-01, -3.57421875e-01, -2.85156250e-01, -1.66992188e-01,\n",
       "        1.97265625e-01, -1.53320312e-01,  2.31933594e-02,  2.06054688e-01,\n",
       "        1.80664062e-01, -2.74658203e-02, -1.92382812e-01, -9.61914062e-02,\n",
       "       -1.06811523e-02, -4.73632812e-02,  6.54296875e-02, -1.25732422e-02,\n",
       "        1.78222656e-02, -8.00781250e-02, -2.59765625e-01,  9.37500000e-02,\n",
       "       -7.81250000e-02,  4.68750000e-02, -2.22167969e-02,  1.86767578e-02,\n",
       "        3.11279297e-02,  1.04980469e-02, -1.69921875e-01,  2.58789062e-02,\n",
       "       -3.41796875e-02, -1.44042969e-02, -5.46875000e-02, -8.78906250e-02,\n",
       "        1.96838379e-03,  2.23632812e-01, -1.36718750e-01,  1.75781250e-01,\n",
       "       -1.63085938e-01,  1.87500000e-01,  3.44238281e-02, -5.63964844e-02,\n",
       "       -2.27689743e-05,  4.27246094e-02,  5.81054688e-02, -1.07910156e-01,\n",
       "       -3.88183594e-02, -2.69531250e-01,  3.34472656e-02,  9.81445312e-02,\n",
       "        5.63964844e-02,  2.23632812e-01, -5.49316406e-02,  1.46484375e-01,\n",
       "        5.93261719e-02, -2.19726562e-01,  6.39648438e-02,  1.66015625e-02,\n",
       "        4.56542969e-02,  3.26171875e-01, -3.80859375e-01,  1.70898438e-01,\n",
       "        5.66406250e-02, -1.04492188e-01,  1.38671875e-01, -1.57226562e-01,\n",
       "        3.23486328e-03, -4.80957031e-02, -2.48046875e-01, -6.20117188e-02],\n",
       "      dtype=float32)"
      ]
     },
     "execution_count": 26,
     "metadata": {},
     "output_type": "execute_result"
    }
   ],
   "source": [
    "from gensim.models import KeyedVectors\n",
    "\n",
    "word2vec_path = os.getenv('HOME')+'/aiffel/sentiment_classification/data/GoogleNews-vectors-negative300.bin.gz'\n",
    "word2vec = KeyedVectors.load_word2vec_format(word2vec_path, binary=True, limit=1000000)\n",
    "vector = word2vec['computer']\n",
    "vector     # 무려 300dim의 워드 벡터입니다."
   ]
  },
  {
   "cell_type": "code",
   "execution_count": 27,
   "id": "9e6cd777",
   "metadata": {},
   "outputs": [
    {
     "data": {
      "text/plain": [
       "[('loved', 0.6907791495323181),\n",
       " ('adore', 0.6816873550415039),\n",
       " ('loves', 0.661863386631012),\n",
       " ('passion', 0.6100708842277527),\n",
       " ('hate', 0.600395679473877),\n",
       " ('loving', 0.5886635780334473),\n",
       " ('affection', 0.5664337873458862),\n",
       " ('undying_love', 0.5547304749488831),\n",
       " ('absolutely_adore', 0.5536840558052063),\n",
       " ('adores', 0.5440906882286072)]"
      ]
     },
     "execution_count": 27,
     "metadata": {},
     "output_type": "execute_result"
    }
   ],
   "source": [
    "word2vec.similar_by_word(\"love\")"
   ]
  },
  {
   "cell_type": "code",
   "execution_count": 28,
   "id": "55c67eff",
   "metadata": {},
   "outputs": [],
   "source": [
    "vocab_size = 10000    # 어휘 사전의 크기입니다(10,000개의 단어)\n",
    "word_vector_dim = 300  # 워드 벡터의 차원수\n",
    "embedding_matrix = np.random.rand(vocab_size, word_vector_dim)\n",
    "\n",
    "# embedding_matrix에 Word2Vec 워드 벡터를 단어 하나씩 copy\n",
    "for i in range(4,vocab_size):\n",
    "    if index_to_word[i] in word2vec:\n",
    "        embedding_matrix[i] = word2vec[index_to_word[i]]"
   ]
  },
  {
   "cell_type": "code",
   "execution_count": 29,
   "id": "afa924ff",
   "metadata": {},
   "outputs": [
    {
     "name": "stdout",
     "output_type": "stream",
     "text": [
      "Model: \"sequential_2\"\n",
      "_________________________________________________________________\n",
      "Layer (type)                 Output Shape              Param #   \n",
      "=================================================================\n",
      "embedding_2 (Embedding)      (None, 580, 300)          3000000   \n",
      "_________________________________________________________________\n",
      "conv1d (Conv1D)              (None, 574, 16)           33616     \n",
      "_________________________________________________________________\n",
      "max_pooling1d (MaxPooling1D) (None, 114, 16)           0         \n",
      "_________________________________________________________________\n",
      "conv1d_1 (Conv1D)            (None, 108, 16)           1808      \n",
      "_________________________________________________________________\n",
      "global_max_pooling1d (Global (None, 16)                0         \n",
      "_________________________________________________________________\n",
      "dense_4 (Dense)              (None, 8)                 136       \n",
      "_________________________________________________________________\n",
      "dense_5 (Dense)              (None, 1)                 9         \n",
      "=================================================================\n",
      "Total params: 3,035,569\n",
      "Trainable params: 3,035,569\n",
      "Non-trainable params: 0\n",
      "_________________________________________________________________\n"
     ]
    }
   ],
   "source": [
    "from tensorflow.keras.initializers import Constant\n",
    "\n",
    "vocab_size = 10000    # 어휘 사전의 크기입니다(10,000개의 단어)\n",
    "word_vector_dim = 300  # 워드 벡터의 차원 수 \n",
    "\n",
    "# 모델 구성\n",
    "model = tf.keras.Sequential()\n",
    "model.add(tf.keras.layers.Embedding(vocab_size, \n",
    "                                 word_vector_dim, \n",
    "                                 embeddings_initializer=Constant(embedding_matrix),  # 카피한 임베딩을 여기서 활용\n",
    "                                 input_length=maxlen, \n",
    "                                 trainable=True))   # trainable을 True로 주면 Fine-tuning\n",
    "model.add(tf.keras.layers.Conv1D(16, 7, activation='relu'))\n",
    "model.add(tf.keras.layers.MaxPooling1D(5))\n",
    "model.add(tf.keras.layers.Conv1D(16, 7, activation='relu'))\n",
    "model.add(tf.keras.layers.GlobalMaxPooling1D())\n",
    "model.add(tf.keras.layers.Dense(8, activation='relu'))\n",
    "model.add(tf.keras.layers.Dense(1, activation='sigmoid')) \n",
    "\n",
    "model.summary()"
   ]
  },
  {
   "cell_type": "code",
   "execution_count": 30,
   "id": "3f6547aa",
   "metadata": {},
   "outputs": [
    {
     "name": "stdout",
     "output_type": "stream",
     "text": [
      "Epoch 1/20\n",
      "30/30 [==============================] - 14s 86ms/step - loss: 0.6930 - accuracy: 0.5253 - val_loss: 0.6892 - val_accuracy: 0.5222\n",
      "Epoch 2/20\n",
      "30/30 [==============================] - 2s 68ms/step - loss: 0.6793 - accuracy: 0.5733 - val_loss: 0.6777 - val_accuracy: 0.5665\n",
      "Epoch 3/20\n",
      "30/30 [==============================] - 2s 69ms/step - loss: 0.6553 - accuracy: 0.6201 - val_loss: 0.6500 - val_accuracy: 0.6266\n",
      "Epoch 4/20\n",
      "30/30 [==============================] - 2s 69ms/step - loss: 0.5754 - accuracy: 0.7313 - val_loss: 0.5153 - val_accuracy: 0.7640\n",
      "Epoch 5/20\n",
      "30/30 [==============================] - 2s 69ms/step - loss: 0.3991 - accuracy: 0.8302 - val_loss: 0.3515 - val_accuracy: 0.8497\n",
      "Epoch 6/20\n",
      "30/30 [==============================] - 2s 69ms/step - loss: 0.2700 - accuracy: 0.8953 - val_loss: 0.3531 - val_accuracy: 0.8453\n",
      "Epoch 7/20\n",
      "30/30 [==============================] - 2s 69ms/step - loss: 0.2084 - accuracy: 0.9216 - val_loss: 0.2955 - val_accuracy: 0.8761\n",
      "Epoch 8/20\n",
      "30/30 [==============================] - 2s 70ms/step - loss: 0.1551 - accuracy: 0.9509 - val_loss: 0.2898 - val_accuracy: 0.8804\n",
      "Epoch 9/20\n",
      "30/30 [==============================] - 2s 70ms/step - loss: 0.1168 - accuracy: 0.9667 - val_loss: 0.2981 - val_accuracy: 0.8763\n",
      "Epoch 10/20\n",
      "30/30 [==============================] - 2s 70ms/step - loss: 0.0861 - accuracy: 0.9781 - val_loss: 0.3150 - val_accuracy: 0.8787\n",
      "Epoch 11/20\n",
      "30/30 [==============================] - 2s 70ms/step - loss: 0.0630 - accuracy: 0.9867 - val_loss: 0.3682 - val_accuracy: 0.8684\n",
      "Epoch 12/20\n",
      "30/30 [==============================] - 2s 70ms/step - loss: 0.0463 - accuracy: 0.9917 - val_loss: 0.3533 - val_accuracy: 0.8763\n",
      "Epoch 13/20\n",
      "30/30 [==============================] - 2s 71ms/step - loss: 0.0288 - accuracy: 0.9975 - val_loss: 0.3742 - val_accuracy: 0.8722\n",
      "Epoch 14/20\n",
      "30/30 [==============================] - 2s 71ms/step - loss: 0.0208 - accuracy: 0.9986 - val_loss: 0.3957 - val_accuracy: 0.8720\n",
      "Epoch 15/20\n",
      "30/30 [==============================] - 2s 71ms/step - loss: 0.0139 - accuracy: 0.9993 - val_loss: 0.4303 - val_accuracy: 0.8721\n",
      "Epoch 16/20\n",
      "30/30 [==============================] - 2s 71ms/step - loss: 0.0094 - accuracy: 0.9995 - val_loss: 0.4605 - val_accuracy: 0.8717\n",
      "Epoch 17/20\n",
      "30/30 [==============================] - 2s 71ms/step - loss: 0.0069 - accuracy: 0.9997 - val_loss: 0.4820 - val_accuracy: 0.8702\n",
      "Epoch 18/20\n",
      "30/30 [==============================] - 2s 71ms/step - loss: 0.0055 - accuracy: 0.9997 - val_loss: 0.5013 - val_accuracy: 0.8710\n",
      "Epoch 19/20\n",
      "30/30 [==============================] - 2s 72ms/step - loss: 0.0046 - accuracy: 0.9997 - val_loss: 0.5159 - val_accuracy: 0.8713\n",
      "Epoch 20/20\n",
      "30/30 [==============================] - 2s 71ms/step - loss: 0.0036 - accuracy: 0.9997 - val_loss: 0.5389 - val_accuracy: 0.8717\n"
     ]
    }
   ],
   "source": [
    "model.compile(optimizer='adam',\n",
    "              loss='binary_crossentropy',\n",
    "              metrics=['accuracy'])\n",
    "              \n",
    "epochs=20  # 몇 epoch를 훈련하면 좋을지 결과를 보면서 바꾸어 봅시다. \n",
    "\n",
    "history = model.fit(partial_x_train,\n",
    "                    partial_y_train,\n",
    "                    epochs=epochs,\n",
    "                    batch_size=512,\n",
    "                    validation_data=(x_val, y_val),\n",
    "                    verbose=1)"
   ]
  },
  {
   "cell_type": "code",
   "execution_count": 31,
   "id": "840033ac",
   "metadata": {},
   "outputs": [
    {
     "name": "stdout",
     "output_type": "stream",
     "text": [
      "782/782 - 2s - loss: 0.5868 - accuracy: 0.8621\n",
      "[0.5868045091629028, 0.8620799779891968]\n"
     ]
    }
   ],
   "source": [
    "results = model.evaluate(x_test,  y_test, verbose=2)\n",
    "\n",
    "print(results)"
   ]
  },
  {
   "cell_type": "code",
   "execution_count": null,
   "id": "6c6964ad",
   "metadata": {},
   "outputs": [],
   "source": []
  }
 ],
 "metadata": {
  "kernelspec": {
   "display_name": "Python 3 (ipykernel)",
   "language": "python",
   "name": "python3"
  },
  "language_info": {
   "codemirror_mode": {
    "name": "ipython",
    "version": 3
   },
   "file_extension": ".py",
   "mimetype": "text/x-python",
   "name": "python",
   "nbconvert_exporter": "python",
   "pygments_lexer": "ipython3",
   "version": "3.9.7"
  }
 },
 "nbformat": 4,
 "nbformat_minor": 5
}
